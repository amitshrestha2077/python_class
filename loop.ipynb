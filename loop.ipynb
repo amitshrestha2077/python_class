{
 "cells": [
  {
   "cell_type": "code",
   "execution_count": 1,
   "id": "9043dfaa",
   "metadata": {},
   "outputs": [],
   "source": [
    "# loop\n",
    "# for loop\n",
    "# while loop"
   ]
  },
  {
   "cell_type": "code",
   "execution_count": 2,
   "id": "33dc241e",
   "metadata": {},
   "outputs": [],
   "source": [
    "# for loop"
   ]
  },
  {
   "cell_type": "code",
   "execution_count": 4,
   "id": "c4b2dce0",
   "metadata": {},
   "outputs": [],
   "source": [
    "# range(5) # 0,1,2,3,4   for(i = 0; i<5; i++)\n",
    "# range(1,5) # 1,2,3,4    for(i = 1; i<5; i++)\n",
    "# range(1,10,2) # 1,3,5,7,9   for(i = 1; i<10; i+2)"
   ]
  },
  {
   "cell_type": "code",
   "execution_count": 5,
   "id": "45934fc0",
   "metadata": {},
   "outputs": [
    {
     "name": "stdout",
     "output_type": "stream",
     "text": [
      "0 Hello world\n",
      "1 Hello world\n",
      "2 Hello world\n",
      "3 Hello world\n",
      "4 Hello world\n"
     ]
    }
   ],
   "source": [
    "for i in range(5):\n",
    "    print(i,\"Hello world\")"
   ]
  },
  {
   "cell_type": "code",
   "execution_count": 15,
   "id": "a931b40f",
   "metadata": {
    "scrolled": true
   },
   "outputs": [
    {
     "name": "stdout",
     "output_type": "stream",
     "text": [
      "1 Hello world\n",
      "2 Hello world\n",
      "3 Hello world\n",
      "4 Hello world\n"
     ]
    }
   ],
   "source": [
    "for i in range(1,5):\n",
    "    print(i,\"Hello world\")"
   ]
  },
  {
   "cell_type": "code",
   "execution_count": 14,
   "id": "8be6a029",
   "metadata": {},
   "outputs": [
    {
     "name": "stdout",
     "output_type": "stream",
     "text": [
      "1 Hello world\n",
      "3 Hello world\n",
      "5 Hello world\n",
      "7 Hello world\n",
      "9 Hello world\n",
      "11 Hello world\n",
      "13 Hello world\n",
      "15 Hello world\n",
      "17 Hello world\n",
      "19 Hello world\n"
     ]
    }
   ],
   "source": [
    "for i in range(1,20,2):\n",
    "    print(i,\"Hello world\")"
   ]
  },
  {
   "cell_type": "code",
   "execution_count": 13,
   "id": "33d7579b",
   "metadata": {},
   "outputs": [
    {
     "name": "stdout",
     "output_type": "stream",
     "text": [
      "5 hello world\n",
      "4 hello world\n",
      "3 hello world\n",
      "2 hello world\n"
     ]
    }
   ],
   "source": [
    "for i in range(5,1,-1):\n",
    "    print(i,\"hello world\")"
   ]
  },
  {
   "cell_type": "code",
   "execution_count": 2,
   "id": "f1557bd3",
   "metadata": {},
   "outputs": [
    {
     "name": "stdout",
     "output_type": "stream",
     "text": [
      "Enter n =3\n",
      "3\n",
      "6\n",
      "9\n",
      "12\n",
      "15\n",
      "18\n",
      "21\n",
      "24\n",
      "27\n",
      "30\n"
     ]
    }
   ],
   "source": [
    "n = int(input(\"Enter n =\"))\n",
    "for i in range(1,11):\n",
    "    print(i*n)"
   ]
  },
  {
   "cell_type": "code",
   "execution_count": 26,
   "id": "41e09974",
   "metadata": {},
   "outputs": [
    {
     "name": "stdout",
     "output_type": "stream",
     "text": [
      "Enter n =3\n",
      "3 * 1 = 3\n",
      "3 * 2 = 6\n",
      "3 * 3 = 9\n",
      "3 * 4 = 12\n",
      "3 * 5 = 15\n",
      "3 * 6 = 18\n",
      "3 * 7 = 21\n",
      "3 * 8 = 24\n",
      "3 * 9 = 27\n",
      "3 * 10 = 30\n"
     ]
    }
   ],
   "source": [
    "# 5 * 1 = 5\n",
    "n = int(input(\"Enter n =\"))\n",
    "for i in range(1,11):\n",
    "    print(n,\"*\",i,\"=\",i*n)"
   ]
  },
  {
   "cell_type": "code",
   "execution_count": 6,
   "id": "c4e7fe2d",
   "metadata": {},
   "outputs": [
    {
     "name": "stdout",
     "output_type": "stream",
     "text": [
      "Enter x = 100\n",
      "Enter x = 200\n"
     ]
    }
   ],
   "source": [
    "for i in range(2):\n",
    "    x = int(input(\"Enter x = \"))"
   ]
  },
  {
   "cell_type": "code",
   "execution_count": 7,
   "id": "520907a3",
   "metadata": {},
   "outputs": [
    {
     "name": "stdout",
     "output_type": "stream",
     "text": [
      "Enter x =1000\n",
      "Enter x =2233\n",
      "Enter x =423\n",
      "Enter x =452241\n",
      "Enter x =213412\n",
      "669309\n"
     ]
    }
   ],
   "source": [
    "s = 0   # int\n",
    "for i in range(5):\n",
    "    x = int(input(\"Enter x =\"))\n",
    "    s = s+x\n",
    "    \n",
    "print(s)"
   ]
  },
  {
   "cell_type": "code",
   "execution_count": 8,
   "id": "fc8fef15",
   "metadata": {},
   "outputs": [
    {
     "name": "stdout",
     "output_type": "stream",
     "text": [
      "Enter x =24312\n",
      "24312\n",
      "Enter x =4211\n",
      "28523\n",
      "Enter x =41\n",
      "28564\n",
      "Enter x =34\n",
      "28598\n",
      "Enter x =25323\n",
      "53921\n"
     ]
    }
   ],
   "source": [
    "s = 0\n",
    "for i in range(5):\n",
    "    x = int(input(\"Enter x =\"))\n",
    "    s = s+x\n",
    "    \n",
    "    print(s)"
   ]
  },
  {
   "cell_type": "code",
   "execution_count": 4,
   "id": "04cdfc02",
   "metadata": {},
   "outputs": [
    {
     "name": "stdout",
     "output_type": "stream",
     "text": [
      "Enter n =5\n",
      "Enter x =32523\n",
      "NOw your total balacne =  32523\n",
      "Enter x =5322\n",
      "NOw your total balacne =  37845\n",
      "Enter x =341\n",
      "NOw your total balacne =  38186\n",
      "Enter x =432\n",
      "NOw your total balacne =  38618\n",
      "Enter x =5325\n",
      "NOw your total balacne =  43943\n"
     ]
    }
   ],
   "source": [
    "s = 0\n",
    "n = int(input(\"Enter n =\"))\n",
    "for i in range(5):\n",
    "    x = int(input(\"Enter x =\"))\n",
    "    s = s+x\n",
    "    \n",
    "    print(\"NOw your total balacne = \",s)"
   ]
  },
  {
   "cell_type": "markdown",
   "id": "4b4761cd",
   "metadata": {},
   "source": []
  },
  {
   "cell_type": "code",
   "execution_count": 5,
   "id": "606a7de8",
   "metadata": {},
   "outputs": [
    {
     "name": "stdout",
     "output_type": "stream",
     "text": [
      "Enter n = 3\n",
      "Enter  = amit\n",
      "amit\n",
      "\n",
      "Enter  = suraj\n",
      "amit\n",
      "suraj\n",
      "\n",
      "Enter  = nabin\n",
      "amit\n",
      "suraj\n",
      "nabin\n",
      "\n"
     ]
    }
   ],
   "source": [
    "s = \"\"  #string\n",
    "n = int(input(\"Enter n = \"))\n",
    "for i in range(n):\n",
    "    x = input(\"Enter  = \")\n",
    "    s = s+ x + \"\\n\"\n",
    "    print(s)"
   ]
  },
  {
   "cell_type": "code",
   "execution_count": 11,
   "id": "2bd7e973",
   "metadata": {},
   "outputs": [
    {
     "name": "stdout",
     "output_type": "stream",
     "text": [
      "Enter n = 2\n",
      "Enter name = ram\n",
      "Enter phone = 2455\n",
      "ram2455\n",
      "\n",
      "Enter name = sayam\n",
      "Enter phone = 35253\n",
      "ram2455\n",
      "sayam35253\n",
      "\n"
     ]
    }
   ],
   "source": [
    "s = \"\"\n",
    "n = int(input(\"Enter n = \"))\n",
    "for i in range(n):\n",
    "    Name = input(\"Enter name = \")\n",
    "    phone = input(\"Enter phone = \")\n",
    "    s = s+ Name + phone + \"\\n\"\n",
    "    \n",
    "    print(s)"
   ]
  },
  {
   "cell_type": "code",
   "execution_count": 1,
   "id": "20513cbf",
   "metadata": {},
   "outputs": [
    {
     "name": "stdout",
     "output_type": "stream",
     "text": [
      "Enter n = 2\n",
      "Enter name = ram\n",
      "Enter phone = 353252v\n",
      "ram--353252v\n",
      "\n",
      "Enter name = shiyem\n",
      "Enter phone = 2435246\n",
      "ram--353252v\n",
      "shiyem--2435246\n",
      "\n"
     ]
    }
   ],
   "source": [
    "s = \"\"\n",
    "n = int(input(\"Enter n = \"))\n",
    "for i in range(n):\n",
    "    Name = input(\"Enter name = \")\n",
    "    phone = input(\"Enter phone = \")\n",
    "    s = s+ Name +\"--\" + phone + \"\\n\"\n",
    "    \n",
    "    print(s)"
   ]
  },
  {
   "cell_type": "code",
   "execution_count": 1,
   "id": "d5627936",
   "metadata": {},
   "outputs": [
    {
     "name": "stdout",
     "output_type": "stream",
     "text": [
      "Enter n = 2\n",
      "Enter name = AMit\n",
      "Enter phone = 9813141241\n",
      "Name = AMit , Phone =9813141241\n",
      "\n",
      "Enter name = Hari\n",
      "Enter phone = 98422352\n",
      "Name = AMit , Phone =9813141241\n",
      "Name = Hari , Phone =98422352\n",
      "\n"
     ]
    }
   ],
   "source": [
    "s = \"\"\n",
    "n = int(input(\"Enter n = \"))\n",
    "for i in range(n):\n",
    "    Name = input(\"Enter name = \")\n",
    "    phone = input(\"Enter phone = \")\n",
    "    s = s+ \"Name = \" + Name + \" , \" +\"Phone =\" + phone + \"\\n\"\n",
    "    \n",
    "    print(s)"
   ]
  },
  {
   "cell_type": "code",
   "execution_count": 1,
   "id": "887c13f1",
   "metadata": {},
   "outputs": [],
   "source": [
    "# WAP to find factorial      # 5! = 1*2*3*4*5\n",
    "# WAP to add number from  1 to 100\n",
    "# WAP to  make Defferent patterns line triange\n",
    "# WAP to create a billing system  (Product,price, qty,total,all-total)\n",
    "# WAP to detect if the given no is prime or composite"
   ]
  },
  {
   "cell_type": "code",
   "execution_count": 2,
   "id": "26c86b0b",
   "metadata": {},
   "outputs": [],
   "source": [
    "# string"
   ]
  },
  {
   "cell_type": "code",
   "execution_count": 3,
   "id": "fcf994c0",
   "metadata": {},
   "outputs": [
    {
     "name": "stdout",
     "output_type": "stream",
     "text": [
      "p Hello world\n",
      "y Hello world\n",
      "t Hello world\n",
      "h Hello world\n",
      "o Hello world\n",
      "n Hello world\n"
     ]
    }
   ],
   "source": [
    "a = \"python\"\n",
    "for i in a:\n",
    "    print(i,\"Hello world\")"
   ]
  },
  {
   "cell_type": "code",
   "execution_count": 3,
   "id": "1f063afd",
   "metadata": {},
   "outputs": [
    {
     "name": "stdout",
     "output_type": "stream",
     "text": [
      "Hellow world i am python"
     ]
    }
   ],
   "source": [
    "a = \"Hellow world i am python\"\n",
    "for i in a:\n",
    "    print(i,end = \"\")"
   ]
  },
  {
   "cell_type": "code",
   "execution_count": 9,
   "id": "b86f0d63",
   "metadata": {},
   "outputs": [
    {
     "name": "stdout",
     "output_type": "stream",
     "text": [
      "Hellow world i am python"
     ]
    }
   ],
   "source": [
    "a = \"Hellow world i am python.\"\n",
    "for i in a:\n",
    "    if i != \".\":  #remove\n",
    "        print(i,end = \"\")"
   ]
  },
  {
   "cell_type": "code",
   "execution_count": 11,
   "id": "556537c7",
   "metadata": {},
   "outputs": [
    {
     "name": "stdout",
     "output_type": "stream",
     "text": [
      "Hellow world i am python i am from kathmandu NEpal "
     ]
    }
   ],
   "source": [
    "a = \"Hellow world i am python. i am from kathmandu NEpal .\"\n",
    "for i in a:\n",
    "    if i != \".\":  #remove\n",
    "        print(i,end = \"\")"
   ]
  },
  {
   "cell_type": "markdown",
   "id": "78ad8c70",
   "metadata": {},
   "source": [
    "# While loop"
   ]
  },
  {
   "cell_type": "code",
   "execution_count": 13,
   "id": "dffbd52b",
   "metadata": {},
   "outputs": [],
   "source": [
    "# While loop\n",
    "# while <condition>:\n",
    "#     <condition>"
   ]
  },
  {
   "cell_type": "code",
   "execution_count": 15,
   "id": "2bae2e7e",
   "metadata": {},
   "outputs": [
    {
     "name": "stdout",
     "output_type": "stream",
     "text": [
      "0\n",
      "1\n",
      "2\n",
      "3\n",
      "4\n"
     ]
    }
   ],
   "source": [
    "a = 0             #for i in range(5)\n",
    "while a<5:\n",
    "    print(a)\n",
    "    a = a+1"
   ]
  },
  {
   "cell_type": "code",
   "execution_count": 17,
   "id": "3fd511e0",
   "metadata": {},
   "outputs": [
    {
     "name": "stdout",
     "output_type": "stream",
     "text": [
      "1 Hello world\n",
      "2 Hello world\n",
      "3 Hello world\n",
      "4 Hello world\n"
     ]
    }
   ],
   "source": [
    "a = 1           #for i in range(5)\n",
    "while a<5:\n",
    "    print(a,\"Hello world\")\n",
    "    a = a+1"
   ]
  },
  {
   "cell_type": "code",
   "execution_count": 18,
   "id": "2b6df7e9",
   "metadata": {},
   "outputs": [
    {
     "name": "stdout",
     "output_type": "stream",
     "text": [
      "1 Hello world\n",
      "3 Hello world\n"
     ]
    }
   ],
   "source": [
    "a = 1           #for i in range(1,5,2)\n",
    "while a<5:\n",
    "    print(a,\"Hello world\")\n",
    "    a = a+2"
   ]
  },
  {
   "cell_type": "code",
   "execution_count": 19,
   "id": "3d1a59b9",
   "metadata": {},
   "outputs": [
    {
     "name": "stdout",
     "output_type": "stream",
     "text": [
      "0 Hello world\n",
      "0.5 Hello world\n",
      "1.0 Hello world\n",
      "1.5 Hello world\n",
      "2.0 Hello world\n"
     ]
    }
   ],
   "source": [
    "a = 0        #for i in range(1,2)\n",
    "while a<=2:\n",
    "    print(a,\"Hello world\")\n",
    "    a = a+0.5"
   ]
  },
  {
   "cell_type": "code",
   "execution_count": 23,
   "id": "deb92399",
   "metadata": {},
   "outputs": [
    {
     "name": "stdout",
     "output_type": "stream",
     "text": [
      "Enter n =35\n",
      "35 * 1 = 35\n",
      "35 * 2 = 70\n",
      "35 * 3 = 105\n",
      "35 * 4 = 140\n",
      "35 * 5 = 175\n",
      "35 * 6 = 210\n",
      "35 * 7 = 245\n",
      "35 * 8 = 280\n",
      "35 * 9 = 315\n",
      "35 * 10 = 350\n"
     ]
    }
   ],
   "source": [
    "i = 1\n",
    "n = int(input(\"Enter n =\"))\n",
    "while i<=10:\n",
    "    print(n,\"*\",i,\"=\",i*n)\n",
    "    i = i+1"
   ]
  },
  {
   "cell_type": "code",
   "execution_count": 3,
   "id": "33586dd8",
   "metadata": {},
   "outputs": [
    {
     "name": "stdout",
     "output_type": "stream",
     "text": [
      "Enter n = 5\n",
      "Enter x =34\n",
      "NOw your total balacne =  34\n",
      "Enter x =53\n",
      "NOw your total balacne =  87\n",
      "Enter x =463\n",
      "NOw your total balacne =  550\n",
      "Enter x =643\n",
      "NOw your total balacne =  1193\n",
      "Enter x =346\n",
      "NOw your total balacne =  1539\n"
     ]
    }
   ],
   "source": [
    "s = 0\n",
    "i = 0\n",
    "n = int(input(\"Enter n = \"))\n",
    "while i<n:\n",
    "    x = int(input(\"Enter x =\"))\n",
    "    s = s+x\n",
    "    i += 1 # or i = i+1\n",
    "    print(\"NOw your total balacne = \",s)"
   ]
  },
  {
   "cell_type": "code",
   "execution_count": null,
   "id": "5a02e582",
   "metadata": {},
   "outputs": [],
   "source": []
  },
  {
   "cell_type": "code",
   "execution_count": 1,
   "id": "8fc5e0f2",
   "metadata": {},
   "outputs": [
    {
     "name": "stdout",
     "output_type": "stream",
     "text": [
      "Enter N = 1\n",
      "Enter you name = amit\n",
      "ENter your phone number = 9832421\n",
      "amit=9832421\n",
      "\n"
     ]
    }
   ],
   "source": [
    "s = \"\"\n",
    "i = 0\n",
    "n = int(input(\"Enter N = \"))\n",
    "while i<n:\n",
    "    name = input(\"Enter you name = \")\n",
    "    Phone = input(\"ENter your phone number = \")\n",
    "    s = s+ name +\"=\" + str(Phone) + \"\\n\"\n",
    "    i = i+1\n",
    "    print(s)"
   ]
  },
  {
   "cell_type": "markdown",
   "id": "196c29fc",
   "metadata": {},
   "source": []
  },
  {
   "cell_type": "code",
   "execution_count": null,
   "id": "4ec7de54",
   "metadata": {},
   "outputs": [],
   "source": [
    "i = 1\n",
    "fac = 1\n",
    "n=int(input(\"Enter a number = \"))\n",
    "fac=1\n",
    "for i in range(n,1):\n",
    "    fac=fac*i\n",
    "print(\"factorial =\",fac)"
   ]
  },
  {
   "cell_type": "code",
   "execution_count": 5,
   "id": "4507b318",
   "metadata": {},
   "outputs": [
    {
     "name": "stdout",
     "output_type": "stream",
     "text": [
      "Enter the number of rows for the triangle pattern: 4\n",
      "0\n",
      "00\n",
      "000\n"
     ]
    }
   ],
   "source": [
    "# WAP to  make Defferent patterns line triange\n",
    "n = 5\n",
    "for i in range(n):\n",
    "    print(i * \"0\")"
   ]
  },
  {
   "cell_type": "code",
   "execution_count": 5,
   "id": "3a74a642",
   "metadata": {},
   "outputs": [
    {
     "name": "stdout",
     "output_type": "stream",
     "text": [
      "00000\n",
      "0000\n",
      "000\n",
      "00\n",
      "0\n"
     ]
    }
   ],
   "source": [
    "n = 5\n",
    "for i in range(n,0,-1):\n",
    "    print(i * \"0\") "
   ]
  },
  {
   "cell_type": "code",
   "execution_count": 6,
   "id": "2fd66a66",
   "metadata": {},
   "outputs": [
    {
     "name": "stdout",
     "output_type": "stream",
     "text": [
      "     \n",
      "    1\n",
      "   111\n",
      "  11111\n",
      " 1111111\n"
     ]
    }
   ],
   "source": [
    "n = 5\n",
    "for i in range(n):\n",
    "    print(' ' * (n - i) + '1' * (2 * i - 1))"
   ]
  },
  {
   "cell_type": "code",
   "execution_count": 1,
   "id": "920868e1",
   "metadata": {},
   "outputs": [],
   "source": [
    "# control statements\n",
    "# continue\n",
    "# break\n",
    "# pass"
   ]
  },
  {
   "cell_type": "code",
   "execution_count": 3,
   "id": "a54b61ce",
   "metadata": {},
   "outputs": [
    {
     "name": "stdout",
     "output_type": "stream",
     "text": [
      "0\n",
      "1\n",
      "2\n",
      "3\n",
      "4\n"
     ]
    }
   ],
   "source": [
    "for i in range(10):\n",
    "    if i == 5:\n",
    "        break\n",
    "    print(i)"
   ]
  },
  {
   "cell_type": "code",
   "execution_count": 9,
   "id": "3851a016",
   "metadata": {},
   "outputs": [
    {
     "name": "stdout",
     "output_type": "stream",
     "text": [
      "0 1 2 3 4 6 7 8 9 "
     ]
    }
   ],
   "source": [
    "#continue\n",
    "for i in range(10):\n",
    "    if i == 5:\n",
    "        continue\n",
    "    print(i, end =\" \")"
   ]
  },
  {
   "cell_type": "code",
   "execution_count": 10,
   "id": "afe52c7b",
   "metadata": {},
   "outputs": [
    {
     "name": "stdout",
     "output_type": "stream",
     "text": [
      "Hello world i am python"
     ]
    }
   ],
   "source": [
    "a = \"Hello world i am python. I am best\"\n",
    "for i in a:\n",
    "    if i == \".\":\n",
    "        break \n",
    "    print(i, end =\"\")\n",
    "    "
   ]
  },
  {
   "cell_type": "code",
   "execution_count": 11,
   "id": "006bffaa",
   "metadata": {},
   "outputs": [
    {
     "name": "stdout",
     "output_type": "stream",
     "text": [
      "0 1 2 3 4 6 8 9 "
     ]
    }
   ],
   "source": [
    "#continue\n",
    "for i in range(10):\n",
    "    if i == 5 or i == 7:\n",
    "        continue\n",
    "    print(i, end =\" \")"
   ]
  },
  {
   "cell_type": "code",
   "execution_count": 12,
   "id": "8a5735ed",
   "metadata": {},
   "outputs": [
    {
     "name": "stdout",
     "output_type": "stream",
     "text": [
      "Hello world i am python I am best  "
     ]
    }
   ],
   "source": [
    "a = \"Hello world i am python. I am best  _\"\n",
    "for i in a:\n",
    "    if i == \".\" or i == \"_\":\n",
    "        continue \n",
    "    print(i, end =\"\")\n",
    "    "
   ]
  },
  {
   "cell_type": "code",
   "execution_count": 1,
   "id": "d291be6a",
   "metadata": {},
   "outputs": [
    {
     "name": "stdout",
     "output_type": "stream",
     "text": [
      "0\n",
      "1\n",
      "2\n",
      "3\n",
      "4\n"
     ]
    }
   ],
   "source": [
    "#break while\n",
    "i = 0\n",
    "while i <=10:\n",
    "    if i == 5:\n",
    "        break\n",
    "    print(i)\n",
    "    i = i+1"
   ]
  },
  {
   "cell_type": "code",
   "execution_count": 1,
   "id": "5f2fd1ff",
   "metadata": {},
   "outputs": [
    {
     "name": "stdout",
     "output_type": "stream",
     "text": [
      "0\n",
      "1\n",
      "2\n",
      "3\n",
      "4\n",
      "6\n",
      "7\n",
      "8\n",
      "9\n",
      "10\n"
     ]
    }
   ],
   "source": [
    "#continue while\n",
    "i = 0\n",
    "while i <=10:\n",
    "    if i == 5:\n",
    "        i = i+1\n",
    "        continue\n",
    "    print(i)\n",
    "    i = i+1"
   ]
  },
  {
   "cell_type": "code",
   "execution_count": 4,
   "id": "2fbaa18a",
   "metadata": {},
   "outputs": [
    {
     "name": "stdout",
     "output_type": "stream",
     "text": [
      "5\n",
      "10\n",
      "15\n",
      "20\n",
      "25\n",
      "30\n",
      "35\n",
      "40\n",
      "45\n",
      "50\n"
     ]
    }
   ],
   "source": [
    "for i in range(1,51):\n",
    "    if i % 5 != 0:\n",
    "        continue\n",
    "    print(i)"
   ]
  },
  {
   "cell_type": "code",
   "execution_count": 5,
   "id": "a86340ae",
   "metadata": {},
   "outputs": [
    {
     "name": "stdout",
     "output_type": "stream",
     "text": [
      "ENter n = 2\n",
      "Enter namne = vd\n",
      "Enter price = 234\n",
      "Enter Qty = 13\n",
      "Enter namne = fd\n",
      "Enter price = 234\n",
      "Enter Qty = 12\n",
      "vd 234 3042\n",
      "fd 234 2808\n",
      "\n",
      "all_total: 5850\n"
     ]
    }
   ],
   "source": [
    "# WAP to create a billing system  (Product,price, qty,total,all_total)\n",
    "\n",
    "bill = \"\"\n",
    "all_total = 0\n",
    "n = int(input(\"ENter n = \"))\n",
    "for i in range(n):\n",
    "    name = input(\"Enter namne = \")\n",
    "    price = int(input(\"Enter price = \"))\n",
    "    qty = int(input(\"Enter Qty = \"))\n",
    "    total = price * qty\n",
    "    data = name +\" \" + str(price) + \" \" + str(total) + \"\\n\"\n",
    "    bill = bill + data \n",
    "    all_total = all_total + total\n",
    "print(bill)\n",
    "print(\"all_total:\",all_total)"
   ]
  },
  {
   "cell_type": "markdown",
   "id": "fb2dfff8",
   "metadata": {},
   "source": [
    "\n",
    "2## WAP to detect if the given no is prime or composite\n",
    "n = int(input(\"Enter n = \"))\n",
    "if n >=2:\n",
    "    for i in range(2,n//2+1):\n",
    "        if n%i==0:\n",
    "            print(\"the num is composite\")\n",
    "            break\n",
    "    else:\n",
    "        print(\"The num is prime\")\n",
    "else:\n",
    "    print(\"The value of n should be n >=2 \")\n",
    "            "
   ]
  },
  {
   "cell_type": "code",
   "execution_count": 1,
   "id": "a9529278",
   "metadata": {},
   "outputs": [
    {
     "name": "stdout",
     "output_type": "stream",
     "text": [
      "Enter n = 2\n",
      "Enter name = amit\n",
      "Enter price = 400\n",
      "Enter qty = 3\n",
      "Enter name = apple\n",
      "Enter price = 543\n",
      "Enter qty = 3\n",
      "amit 400 3 1200\n",
      "apple 543 3 1629\n",
      "\n",
      "amit 400 3 1200\n",
      "apple 543 3 1629\n",
      "\n",
      "all_total: 0\n"
     ]
    }
   ],
   "source": [
    "# WAP to create a billing system  (Product,price, qty,total,all_total)\n",
    "\n",
    "bill = \"\"\n",
    "all_total = 0\n",
    "n = int(input(\"Enter n = \"))\n",
    "for i in range(n):\n",
    "    name = input(\"Enter name = \")            \n",
    "    price = int(input(\"Enter price = \"))\n",
    "    qty = int(input(\"Enter qty = \"))\n",
    "    total = price *qty\n",
    "    data = f\"{name} {price} {qty} {total}\\n\"\n",
    "    bill = bill + data\n",
    "   \n",
    "print(bill)\n",
    "\n",
    "print(bill)\n",
    "print(\"all_total:\",all_total)"
   ]
  },
  {
   "cell_type": "markdown",
   "id": "849cb613",
   "metadata": {},
   "source": []
  }
 ],
 "metadata": {
  "kernelspec": {
   "display_name": "Python 3 (ipykernel)",
   "language": "python",
   "name": "python3"
  },
  "language_info": {
   "codemirror_mode": {
    "name": "ipython",
    "version": 3
   },
   "file_extension": ".py",
   "mimetype": "text/x-python",
   "name": "python",
   "nbconvert_exporter": "python",
   "pygments_lexer": "ipython3",
   "version": "3.10.9"
  }
 },
 "nbformat": 4,
 "nbformat_minor": 5
}
