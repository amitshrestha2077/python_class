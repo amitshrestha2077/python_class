{
 "cells": [
  {
   "cell_type": "code",
   "execution_count": 1,
   "id": "023c1888",
   "metadata": {},
   "outputs": [
    {
     "name": "stdout",
     "output_type": "stream",
     "text": [
      "2023-06-19 08:25:20.353245\n"
     ]
    }
   ],
   "source": [
    "import datetime as dt\n",
    "\n",
    "x = dt.datetime.now()\n",
    "print(x)"
   ]
  },
  {
   "cell_type": "code",
   "execution_count": 2,
   "id": "47099e7c",
   "metadata": {},
   "outputs": [
    {
     "name": "stdout",
     "output_type": "stream",
     "text": [
      "2023\n",
      "6\n",
      "19\n",
      "8\n"
     ]
    }
   ],
   "source": [
    "x = dt.datetime.now()\n",
    "print(x.year)\n",
    "print(x.month)\n",
    "print(x.day)\n",
    "print(x.hour)\n"
   ]
  },
  {
   "cell_type": "code",
   "execution_count": 4,
   "id": "5d4dfa49",
   "metadata": {},
   "outputs": [
    {
     "name": "stdout",
     "output_type": "stream",
     "text": [
      "Monday\n",
      "Mon\n",
      "June\n",
      "Jun\n",
      "20\n",
      "Mon Jun 19 08:27:46 2023\n",
      "06/19/23\n",
      "19\n"
     ]
    }
   ],
   "source": [
    "print(x.strftime(\"%A\"))\n",
    "print(x.strftime(\"%a\"))\n",
    "print(x.strftime(\"%B\"))\n",
    "print(x.strftime(\"%b\"))\n",
    "print(x.strftime(\"%C\"))\n",
    "print(x.strftime(\"%c\"))\n",
    "print(x.strftime(\"%D\"))\n",
    "print(x.strftime(\"%d\"))"
   ]
  },
  {
   "cell_type": "code",
   "execution_count": 5,
   "id": "de166fbe",
   "metadata": {},
   "outputs": [
    {
     "name": "stdout",
     "output_type": "stream",
     "text": [
      "Enter name = amit\n",
      "0:00:01.737170\n"
     ]
    }
   ],
   "source": [
    "x = dt.datetime.now()\n",
    "name = input(\"Enter name = \")\n",
    "y = dt.datetime.now()\n",
    "\n",
    "print(y-x)"
   ]
  },
  {
   "cell_type": "code",
   "execution_count": 8,
   "id": "a550a8cf",
   "metadata": {},
   "outputs": [
    {
     "name": "stdout",
     "output_type": "stream",
     "text": [
      "Enter name = amit\n",
      "1\n"
     ]
    }
   ],
   "source": [
    "x = dt.datetime.now().second\n",
    "name = input(\"Enter name = \")\n",
    "y = dt.datetime.now().second\n",
    "\n",
    "print(y-x)"
   ]
  },
  {
   "cell_type": "code",
   "execution_count": 13,
   "id": "cdb0f97a",
   "metadata": {},
   "outputs": [
    {
     "name": "stdout",
     "output_type": "stream",
     "text": [
      "Enter otp code = 3344\n",
      "Please collect you case \n"
     ]
    }
   ],
   "source": [
    "x = dt.datetime.now().second\n",
    "name = input(\"Enter otp code = \")\n",
    "y = dt.datetime.now().second\n",
    "if y-x < 30:\n",
    "    print(\"Please collect you case \")\n",
    "else:\n",
    "    print(f\"You took {y-x} seconts\",\"Your time is out\")"
   ]
  },
  {
   "cell_type": "markdown",
   "id": "a0cd379f",
   "metadata": {},
   "source": [
    "# os packges"
   ]
  },
  {
   "cell_type": "code",
   "execution_count": 14,
   "id": "c5b3dbb3",
   "metadata": {},
   "outputs": [
    {
     "data": {
      "text/plain": [
       "['.ipynb_checkpoints',\n",
       " 'basic.ipynb',\n",
       " 'bill-system.csv',\n",
       " 'bill-system.txt',\n",
       " 'bill-systen.csv',\n",
       " 'bonus.ipynb',\n",
       " 'books.csv',\n",
       " 'collection.ipynb',\n",
       " 'data.csv',\n",
       " 'data.txt',\n",
       " 'Dicitionary.ipynb',\n",
       " 'File.ipynb',\n",
       " 'Function.ipynb',\n",
       " 'if,else.ipynb',\n",
       " 'loop.ipynb',\n",
       " 'multilevel inheritance.ipynb',\n",
       " 'mysql.ipynb',\n",
       " 'new_data.csv',\n",
       " 'oops.ipynb',\n",
       " 'opp1.ipynb',\n",
       " 'pandas.ipynb',\n",
       " 'String.ipynb',\n",
       " 'tuples and set.ipynb']"
      ]
     },
     "execution_count": 14,
     "metadata": {},
     "output_type": "execute_result"
    }
   ],
   "source": [
    "import os\n",
    "os.listdir()"
   ]
  },
  {
   "cell_type": "code",
   "execution_count": 19,
   "id": "6261cc67",
   "metadata": {},
   "outputs": [],
   "source": [
    "os.mkdir('newfolder')   #create folder"
   ]
  },
  {
   "cell_type": "code",
   "execution_count": 20,
   "id": "072181eb",
   "metadata": {},
   "outputs": [],
   "source": [
    "os.chdir('newfolder') "
   ]
  },
  {
   "cell_type": "code",
   "execution_count": 21,
   "id": "17e5e948",
   "metadata": {},
   "outputs": [
    {
     "data": {
      "text/plain": [
       "'C:\\\\Users\\\\HP\\\\Python-class\\\\newfolder'"
      ]
     },
     "execution_count": 21,
     "metadata": {},
     "output_type": "execute_result"
    }
   ],
   "source": [
    "pwd"
   ]
  },
  {
   "cell_type": "code",
   "execution_count": 22,
   "id": "ea833347",
   "metadata": {},
   "outputs": [
    {
     "name": "stdout",
     "output_type": "stream",
     "text": [
      "C:\\Users\\HP\\Python-class\n"
     ]
    }
   ],
   "source": [
    "cd .."
   ]
  },
  {
   "cell_type": "code",
   "execution_count": 23,
   "id": "7c7fbbb3",
   "metadata": {},
   "outputs": [],
   "source": [
    "os.rename('newfolder', 'NEWFOLDER') #rename"
   ]
  },
  {
   "cell_type": "code",
   "execution_count": 24,
   "id": "a278fd2a",
   "metadata": {},
   "outputs": [],
   "source": [
    "os.rmdir('NEWFOLDER') #DELETE"
   ]
  },
  {
   "cell_type": "markdown",
   "id": "e5d936fc",
   "metadata": {},
   "source": [
    "# Comprehensions: list, dictionary"
   ]
  },
  {
   "cell_type": "code",
   "execution_count": 27,
   "id": "d0cd2784",
   "metadata": {},
   "outputs": [
    {
     "data": {
      "text/plain": [
       "[0, 1, 2, 3, 4, 5, 6, 7, 8, 9]"
      ]
     },
     "execution_count": 27,
     "metadata": {},
     "output_type": "execute_result"
    }
   ],
   "source": [
    "l = [i for i in range(10)]\n",
    "l"
   ]
  },
  {
   "cell_type": "code",
   "execution_count": 28,
   "id": "9e5eadf4",
   "metadata": {},
   "outputs": [
    {
     "name": "stdout",
     "output_type": "stream",
     "text": [
      "Enter valus = ram\n",
      "Enter valus = hariu \n",
      "Enter valus = geta\n",
      "Enter valus = rita\n",
      "Enter valus = suman\n"
     ]
    },
    {
     "data": {
      "text/plain": [
       "['ram', 'hariu ', 'geta', 'rita', 'suman']"
      ]
     },
     "execution_count": 28,
     "metadata": {},
     "output_type": "execute_result"
    }
   ],
   "source": [
    "l = [input(\"Enter valus = \") for i in range(5)]\n",
    "l"
   ]
  },
  {
   "cell_type": "code",
   "execution_count": 30,
   "id": "d30377c0",
   "metadata": {},
   "outputs": [
    {
     "data": {
      "text/plain": [
       "['apple', 'ball', 'cat', 'dog']"
      ]
     },
     "execution_count": 30,
     "metadata": {},
     "output_type": "execute_result"
    }
   ],
   "source": [
    "l = [\"Apple\",\"Ball\",\"cat\",\"Dog\"]\n",
    "data = [i.lower() for i in l]\n",
    "data"
   ]
  },
  {
   "cell_type": "code",
   "execution_count": 33,
   "id": "1a995ae8",
   "metadata": {},
   "outputs": [
    {
     "data": {
      "text/plain": [
       "{'Apple': 'apple', 'Ball': 'ball', 'cat': 'cat', 'Dog': 'dog'}"
      ]
     },
     "execution_count": 33,
     "metadata": {},
     "output_type": "execute_result"
    }
   ],
   "source": [
    "# in dict \n",
    "l = [\"Apple\",\"Ball\",\"cat\",\"Dog\"]\n",
    "d = {i:i.lower() for i in l} #cconvert into lower latter\n",
    "d                  "
   ]
  },
  {
   "cell_type": "code",
   "execution_count": 34,
   "id": "109592ec",
   "metadata": {},
   "outputs": [
    {
     "data": {
      "text/plain": [
       "['apple', 'ball', 'cat', 'dog']"
      ]
     },
     "execution_count": 34,
     "metadata": {},
     "output_type": "execute_result"
    }
   ],
   "source": [
    "list(d.values()) #valuess"
   ]
  },
  {
   "cell_type": "code",
   "execution_count": 35,
   "id": "a3216fe0",
   "metadata": {},
   "outputs": [
    {
     "data": {
      "text/plain": [
       "[('Apple', 'apple'), ('Ball', 'ball'), ('cat', 'cat'), ('Dog', 'dog')]"
      ]
     },
     "execution_count": 35,
     "metadata": {},
     "output_type": "execute_result"
    }
   ],
   "source": [
    "list(d.items())"
   ]
  },
  {
   "cell_type": "code",
   "execution_count": 2,
   "id": "26934dc6",
   "metadata": {},
   "outputs": [
    {
     "name": "stdout",
     "output_type": "stream",
     "text": [
      "Enter name = amit\n",
      "Enter number = 3522\n",
      "Enter name = egsd\n",
      "Enter number = 63446\n",
      "Enter name = dfsgs\n",
      "Enter number = 643\n",
      "Enter name = fhdgher\n",
      "Enter number = 633\n",
      "Enter name = gfdgd\n",
      "Enter number = 64637\n"
     ]
    },
    {
     "data": {
      "text/plain": [
       "{'amit': '3522',\n",
       " 'egsd': '63446',\n",
       " 'dfsgs': '643',\n",
       " 'fhdgher': '633',\n",
       " 'gfdgd': '64637'}"
      ]
     },
     "execution_count": 2,
     "metadata": {},
     "output_type": "execute_result"
    }
   ],
   "source": [
    "d = {input(\"Enter name = \"):input(\"Enter number = \") for i in range(5)}\n",
    "d"
   ]
  },
  {
   "cell_type": "code",
   "execution_count": null,
   "id": "51f867f2",
   "metadata": {},
   "outputs": [],
   "source": []
  },
  {
   "cell_type": "code",
   "execution_count": null,
   "id": "9ede2327",
   "metadata": {},
   "outputs": [],
   "source": []
  }
 ],
 "metadata": {
  "kernelspec": {
   "display_name": "Python 3 (ipykernel)",
   "language": "python",
   "name": "python3"
  },
  "language_info": {
   "codemirror_mode": {
    "name": "ipython",
    "version": 3
   },
   "file_extension": ".py",
   "mimetype": "text/x-python",
   "name": "python",
   "nbconvert_exporter": "python",
   "pygments_lexer": "ipython3",
   "version": "3.10.9"
  }
 },
 "nbformat": 4,
 "nbformat_minor": 5
}
