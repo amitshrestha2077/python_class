{
 "cells": [
  {
   "cell_type": "code",
   "execution_count": 1,
   "id": "a709f6b5",
   "metadata": {},
   "outputs": [],
   "source": [
    "# tuple\n",
    "# -Indexing\n",
    "# -Ordered\n",
    "# -multiple and duplicate data\n",
    "# -Imutable"
   ]
  },
  {
   "cell_type": "code",
   "execution_count": null,
   "id": "ae597b93",
   "metadata": {},
   "outputs": [],
   "source": []
  },
  {
   "cell_type": "code",
   "execution_count": 1,
   "id": "f633020b",
   "metadata": {},
   "outputs": [
    {
     "name": "stdout",
     "output_type": "stream",
     "text": [
      "<class 'tuple'>\n",
      "<class 'tuple'>\n"
     ]
    }
   ],
   "source": [
    "a = (1,2,3)\n",
    "b = (\"Apple\",\"Ball\",\"Cat\")\n",
    "print(type(a))\n",
    "print(type(b))"
   ]
  },
  {
   "cell_type": "code",
   "execution_count": 3,
   "id": "a385dfb0",
   "metadata": {},
   "outputs": [
    {
     "data": {
      "text/plain": [
       "tuple"
      ]
     },
     "execution_count": 3,
     "metadata": {},
     "output_type": "execute_result"
    }
   ],
   "source": [
    "a = (1,)\n",
    "type(a)"
   ]
  },
  {
   "cell_type": "code",
   "execution_count": 1,
   "id": "85b62b1b",
   "metadata": {},
   "outputs": [],
   "source": [
    "a = tuple()"
   ]
  },
  {
   "cell_type": "code",
   "execution_count": 2,
   "id": "2d0ea39a",
   "metadata": {},
   "outputs": [
    {
     "name": "stdout",
     "output_type": "stream",
     "text": [
      "('Apple', 'Ball', 'Cat', 1, 2, 3, 4, 5, 5)\n",
      "Ball\n",
      "('Apple', 'Ball', 'Cat', 1, 2)\n",
      "('Apple', 'Cat', 2, 4)\n"
     ]
    }
   ],
   "source": [
    "b = (\"Apple\",\"Ball\",\"Cat\",1,2,3,4,5,5)\n",
    "print(b)\n",
    "print(b[1])\n",
    "print(b[0:5])\n",
    "print(b[0:8:2])"
   ]
  },
  {
   "cell_type": "code",
   "execution_count": 3,
   "id": "7a879330",
   "metadata": {},
   "outputs": [],
   "source": [
    "# min max sum"
   ]
  },
  {
   "cell_type": "code",
   "execution_count": 4,
   "id": "e9a758fe",
   "metadata": {},
   "outputs": [],
   "source": [
    "# # Imutable\n",
    "# No Create\n",
    "# Append() insert() extend()\n",
    "# No delete\n",
    "# del remove() pop()\n",
    "# No Update\n",
    "# No sort"
   ]
  },
  {
   "cell_type": "code",
   "execution_count": null,
   "id": "b808411e",
   "metadata": {},
   "outputs": [],
   "source": []
  }
 ],
 "metadata": {
  "kernelspec": {
   "display_name": "Python 3 (ipykernel)",
   "language": "python",
   "name": "python3"
  },
  "language_info": {
   "codemirror_mode": {
    "name": "ipython",
    "version": 3
   },
   "file_extension": ".py",
   "mimetype": "text/x-python",
   "name": "python",
   "nbconvert_exporter": "python",
   "pygments_lexer": "ipython3",
   "version": "3.10.9"
  }
 },
 "nbformat": 4,
 "nbformat_minor": 5
}
