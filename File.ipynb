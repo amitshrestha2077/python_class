{
 "cells": [
  {
   "cell_type": "code",
   "execution_count": 1,
   "id": "879839fe",
   "metadata": {},
   "outputs": [],
   "source": [
    "# file\n",
    "\n",
    "# file = open('file_name>,<modes>')\n",
    "# file.close()\n",
    "\n",
    "# with open('file_name>,<modes>') as file:\n",
    "#     <operations>\n",
    "    \n",
    "    \n",
    "# Mode\n",
    "# create ->x\n",
    "# read ->\n",
    "# wirte ->w\n",
    "# read -> r\n",
    "# write ->w\n",
    "# append ->a"
   ]
  },
  {
   "cell_type": "code",
   "execution_count": 5,
   "id": "8c8fbe3c",
   "metadata": {},
   "outputs": [
    {
     "name": "stdout",
     "output_type": "stream",
     "text": [
      "The file is already there.\n"
     ]
    }
   ],
   "source": [
    "try:     #yedi error aaauxa jasto lagXA  vani hami try tag use garxam\n",
    "    file = open('data.txt','x')  # x vane ko create garnu ko lagii ho\n",
    "    file.close()\n",
    "except:    #error aayesi except ma lekhey ko aauxa\n",
    "    print(\"The file is already there.\")"
   ]
  },
  {
   "cell_type": "code",
   "execution_count": 6,
   "id": "3e63a794",
   "metadata": {},
   "outputs": [
    {
     "name": "stdout",
     "output_type": "stream",
     "text": [
      "1.Hello world\n",
      "2.Hello world\n",
      "3.Hello world\n",
      "4.Hello world\n",
      "5.Hello world\n",
      "6.Hello world\n"
     ]
    }
   ],
   "source": [
    "#data.txt file ko open voo\n",
    "file = open('data.txt','r')  #r vane ko read garnu ko lagi\n",
    "x = file.read()\n",
    "print(x)\n",
    "file.close()      "
   ]
  },
  {
   "cell_type": "code",
   "execution_count": 7,
   "id": "bed7dc38",
   "metadata": {},
   "outputs": [
    {
     "data": {
      "text/plain": [
       "['1.Hello world',\n",
       " '2.Hello world',\n",
       " '3.Hello world',\n",
       " '4.Hello world',\n",
       " '5.Hello world',\n",
       " '6.Hello world']"
      ]
     },
     "execution_count": 7,
     "metadata": {},
     "output_type": "execute_result"
    }
   ],
   "source": [
    "y = x.split('\\n')\n",
    "y"
   ]
  },
  {
   "cell_type": "code",
   "execution_count": 8,
   "id": "ab2d73fe",
   "metadata": {},
   "outputs": [
    {
     "name": "stdout",
     "output_type": "stream",
     "text": [
      "ENter i = 3\n"
     ]
    },
    {
     "data": {
      "text/plain": [
       "'3.Hello world'"
      ]
     },
     "execution_count": 8,
     "metadata": {},
     "output_type": "execute_result"
    }
   ],
   "source": [
    "i = int(input(\"ENter i = \"))\n",
    "y[i-1]"
   ]
  },
  {
   "cell_type": "code",
   "execution_count": 10,
   "id": "8c30d078",
   "metadata": {},
   "outputs": [],
   "source": [
    "file = open('data.txt','w')   # data.txt file ma vko change garyo \n",
    "file.write('Hello world')\n",
    "file.close()"
   ]
  },
  {
   "cell_type": "code",
   "execution_count": 11,
   "id": "7f52b007",
   "metadata": {},
   "outputs": [],
   "source": [
    "# # WAP to create a billing system  (Product,price, qty,total,all_total)\n",
    "\n",
    "# bill = \"\"\n",
    "# all_total = 0\n",
    "# n = int(input(\"ENter n = \"))\n",
    "# for i in range(n):\n",
    "#     name = input(\"Enter namne = \")\n",
    "#     price = int(input(\"Enter price = \"))\n",
    "#     qty = int(input(\"Enter Qty = \"))\n",
    "#     total = price * qty\n",
    "#     data = name +\" \" + str(price) + \" \" + str(total) + \"\\n\"\n",
    "#     bill = bill + data \n",
    "#     all_total = all_total + total\n",
    "# print(bill)\n",
    "# print(\"all_total:\",all_total)  #useing loop"
   ]
  },
  {
   "cell_type": "code",
   "execution_count": 1,
   "id": "8a3ddab2",
   "metadata": {},
   "outputs": [
    {
     "name": "stdout",
     "output_type": "stream",
     "text": [
      "Enter n = 3\n",
      "Enter name = masu\n",
      "Enter price = 435\n",
      "Enter qty = 2\n",
      "Enter name = apple\n",
      "Enter price = 43\n",
      "Enter qty = 4\n",
      "Enter name = banana\n",
      "Enter price = 255\n",
      "Enter qty = 3\n",
      "masu 435 2 870\n",
      "apple 43 4 172\n",
      "banana 255 3 765\n",
      "\n"
     ]
    }
   ],
   "source": [
    "# WAP to create a billing system  (Product,price, qty,total,all_total)\n",
    "#useing file\n",
    "bill = \"\"\n",
    "all_total = 0\n",
    "n = int(input(\"Enter n = \"))\n",
    "for i in range(n):\n",
    "    name = input(\"Enter name = \")            # WE CAN USE CURLY BRACKET TO AVOID + AND IT IS MORE EASY METHOD.\n",
    "    price = int(input(\"Enter price = \"))\n",
    "    qty = int(input(\"Enter qty = \"))\n",
    "    total = price *qty\n",
    "    data = f\"{name} {price} {qty} {total}\\n\"\n",
    "    bill = bill + data\n",
    "   \n",
    "print(bill)\n",
    "\n",
    "file = open('bill-system.txt','w')    #useing wirte mode\n",
    "file.write(bill)\n",
    "file.close()"
   ]
  },
  {
   "cell_type": "code",
   "execution_count": 2,
   "id": "c4255c72",
   "metadata": {},
   "outputs": [
    {
     "name": "stdout",
     "output_type": "stream",
     "text": [
      "Enter n = 2\n",
      "Enter name = fish\n",
      "Enter price = 4555\n",
      "Enter qty = 3\n",
      "Enter name = ladu\n",
      "Enter price = 3\n",
      "Enter qty = 2\n",
      "fish 4555 3 13665\n",
      "ladu 3 2 6\n",
      "\n"
     ]
    }
   ],
   "source": [
    "# WAP to create a billing system  (Product,price, qty,total,all_total)\n",
    "#useing file\n",
    "bill = \"\"\n",
    "all_total = 0\n",
    "n = int(input(\"Enter n = \"))\n",
    "for i in range(n):\n",
    "    name = input(\"Enter name = \")            # WE CAN USE CURLY BRACKET TO AVOID + AND IT IS MORE EASY METHOD.\n",
    "    price = int(input(\"Enter price = \"))\n",
    "    qty = int(input(\"Enter qty = \"))\n",
    "    total = price *qty\n",
    "    data = f\"{name} {price} {qty} {total}\\n\"\n",
    "    bill = bill + data\n",
    "   \n",
    "print(bill)\n",
    "\n",
    "\n",
    "file = open('bill-system.txt','a')  #useing append mode\n",
    "file.write(bill)\n",
    "file.close()"
   ]
  },
  {
   "cell_type": "code",
   "execution_count": 3,
   "id": "a8e376e0",
   "metadata": {},
   "outputs": [
    {
     "name": "stdout",
     "output_type": "stream",
     "text": [
      "masu 435 2 870\n",
      "apple 43 4 172\n",
      "banana 255 3 765\n",
      "fish 4555 3 13665\n",
      "ladu 3 2 6\n",
      "\n"
     ]
    }
   ],
   "source": [
    "file = open('bill-system.txt','r')\n",
    "x = file.read()\n",
    "print(x)\n",
    "file.close()"
   ]
  },
  {
   "cell_type": "code",
   "execution_count": 4,
   "id": "e3ff1406",
   "metadata": {},
   "outputs": [
    {
     "data": {
      "text/plain": [
       "['masu 435 2 870',\n",
       " 'apple 43 4 172',\n",
       " 'banana 255 3 765',\n",
       " 'fish 4555 3 13665',\n",
       " 'ladu 3 2 6']"
      ]
     },
     "execution_count": 4,
     "metadata": {},
     "output_type": "execute_result"
    }
   ],
   "source": [
    "y = x.split('\\n')[0:-1]\n",
    "y"
   ]
  },
  {
   "cell_type": "code",
   "execution_count": 5,
   "id": "b36e779c",
   "metadata": {},
   "outputs": [
    {
     "data": {
      "text/plain": [
       "[['masu', '435', '2', '870'],\n",
       " ['apple', '43', '4', '172'],\n",
       " ['banana', '255', '3', '765'],\n",
       " ['fish', '4555', '3', '13665'],\n",
       " ['ladu', '3', '2', '6']]"
      ]
     },
     "execution_count": 5,
     "metadata": {},
     "output_type": "execute_result"
    }
   ],
   "source": [
    "bill = []\n",
    "for i in y:\n",
    "    bill.append(i.split())\n",
    "bill"
   ]
  },
  {
   "cell_type": "code",
   "execution_count": 6,
   "id": "61307846",
   "metadata": {},
   "outputs": [
    {
     "data": {
      "text/plain": [
       "15478"
      ]
     },
     "execution_count": 6,
     "metadata": {},
     "output_type": "execute_result"
    }
   ],
   "source": [
    "s = 0\n",
    "for i in bill:\n",
    "    s = s+int(i[-1])\n",
    "    \n",
    "    \n",
    "s"
   ]
  },
  {
   "cell_type": "code",
   "execution_count": 5,
   "id": "af46ed0b",
   "metadata": {},
   "outputs": [
    {
     "name": "stdout",
     "output_type": "stream",
     "text": [
      "Enter n = 3\n",
      "Enter name = Apple\n",
      "Enter price = 350\n",
      "Enter qty = 3\n",
      "Enter name = banana\n",
      "Enter price = 300\n",
      "Enter qty = 7\n",
      "Enter name = masu\n",
      "Enter price = 400\n",
      "Enter qty = 20\n",
      "Apple,350,3,1050\n",
      "banana,300,7,2100\n",
      "masu,400,20,8000\n",
      "\n"
     ]
    }
   ],
   "source": [
    "bill = \"\"\n",
    "all_total = 0\n",
    "n = int(input(\"Enter n = \"))\n",
    "for i in range(n):\n",
    "    name = input(\"Enter name = \")            # WE CAN USE CURLY BRACKET TO AVOID + AND IT IS MORE EASY METHOD.\n",
    "    price = int(input(\"Enter price = \"))\n",
    "    qty = int(input(\"Enter qty = \"))\n",
    "    total = price *qty\n",
    "    data = f\"{name},{price},{qty},{total}\\n\"\n",
    "    bill = bill + data\n",
    "   \n",
    "print(bill)\n",
    "\n",
    "file = open('bill-system.csv' , 'w')\n",
    "file.write(bill)\n",
    "file.close()"
   ]
  },
  {
   "cell_type": "code",
   "execution_count": 6,
   "id": "00c32ab1",
   "metadata": {},
   "outputs": [
    {
     "name": "stdout",
     "output_type": "stream",
     "text": [
      "Enter n = 2\n",
      "Enter name = masu\n",
      "Enter price = 500\n",
      "Enter qty = 2\n",
      "Enter name = fish\n",
      "Enter price = 100\n",
      "Enter qty = 4\n",
      "masu,500,2,1000\n",
      "fish,100,4,400\n",
      "\n"
     ]
    }
   ],
   "source": [
    "bill = \"\"\n",
    "all_total = 0\n",
    "n = int(input(\"Enter n = \"))\n",
    "for i in range(n):\n",
    "    name = input(\"Enter name = \")            # WE CAN USE CURLY BRACKET TO AVOID + AND IT IS MORE EASY METHOD.\n",
    "    price = int(input(\"Enter price = \"))\n",
    "    qty = int(input(\"Enter qty = \"))\n",
    "    total = price *qty\n",
    "    data = f\"{name},{price},{qty},{total}\\n\"\n",
    "    bill = bill + data\n",
    "   \n",
    "print(bill)\n",
    "\n",
    "file = open('bill-system.csv' , 'w')\n",
    "file.write('name,price,quantity,total\\n')\n",
    "file.write(bill)\n",
    "file.close()"
   ]
  },
  {
   "cell_type": "code",
   "execution_count": 7,
   "id": "f93f1482",
   "metadata": {},
   "outputs": [
    {
     "data": {
      "text/html": [
       "<div>\n",
       "<style scoped>\n",
       "    .dataframe tbody tr th:only-of-type {\n",
       "        vertical-align: middle;\n",
       "    }\n",
       "\n",
       "    .dataframe tbody tr th {\n",
       "        vertical-align: top;\n",
       "    }\n",
       "\n",
       "    .dataframe thead th {\n",
       "        text-align: right;\n",
       "    }\n",
       "</style>\n",
       "<table border=\"1\" class=\"dataframe\">\n",
       "  <thead>\n",
       "    <tr style=\"text-align: right;\">\n",
       "      <th></th>\n",
       "      <th>name</th>\n",
       "      <th>price</th>\n",
       "      <th>quantity</th>\n",
       "      <th>total</th>\n",
       "    </tr>\n",
       "  </thead>\n",
       "  <tbody>\n",
       "    <tr>\n",
       "      <th>0</th>\n",
       "      <td>masu</td>\n",
       "      <td>500</td>\n",
       "      <td>2</td>\n",
       "      <td>1000</td>\n",
       "    </tr>\n",
       "    <tr>\n",
       "      <th>1</th>\n",
       "      <td>fish</td>\n",
       "      <td>100</td>\n",
       "      <td>4</td>\n",
       "      <td>400</td>\n",
       "    </tr>\n",
       "  </tbody>\n",
       "</table>\n",
       "</div>"
      ],
      "text/plain": [
       "   name  price  quantity  total\n",
       "0  masu    500         2   1000\n",
       "1  fish    100         4    400"
      ]
     },
     "execution_count": 7,
     "metadata": {},
     "output_type": "execute_result"
    }
   ],
   "source": [
    "import pandas as pd\n",
    "df = pd.read_csv('bill-system.csv')\n",
    "df"
   ]
  },
  {
   "cell_type": "code",
   "execution_count": 9,
   "id": "74f99be6",
   "metadata": {},
   "outputs": [
    {
     "data": {
      "text/plain": [
       "'C:\\\\Users\\\\HP\\\\Python-class'"
      ]
     },
     "execution_count": 9,
     "metadata": {},
     "output_type": "execute_result"
    }
   ],
   "source": [
    "pwd"
   ]
  },
  {
   "cell_type": "code",
   "execution_count": null,
   "id": "e6dd55cb",
   "metadata": {},
   "outputs": [],
   "source": []
  }
 ],
 "metadata": {
  "kernelspec": {
   "display_name": "Python 3 (ipykernel)",
   "language": "python",
   "name": "python3"
  },
  "language_info": {
   "codemirror_mode": {
    "name": "ipython",
    "version": 3
   },
   "file_extension": ".py",
   "mimetype": "text/x-python",
   "name": "python",
   "nbconvert_exporter": "python",
   "pygments_lexer": "ipython3",
   "version": "3.10.9"
  }
 },
 "nbformat": 4,
 "nbformat_minor": 5
}
