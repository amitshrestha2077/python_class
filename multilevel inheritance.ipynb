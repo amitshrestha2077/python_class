{
 "cells": [
  {
   "cell_type": "code",
   "execution_count": 2,
   "id": "9d86ec6c",
   "metadata": {},
   "outputs": [],
   "source": [
    "class A:\n",
    "    pass\n",
    "class B(A):\n",
    "    pass\n",
    "    \n",
    "obj = B()"
   ]
  },
  {
   "cell_type": "code",
   "execution_count": 24,
   "id": "87458c64",
   "metadata": {},
   "outputs": [
    {
     "name": "stdout",
     "output_type": "stream",
     "text": [
      "Enter name = amit\n",
      "Enter add = ktm\n",
      "amit ktm\n",
      "Hello world i am amit. i am from ktm\n"
     ]
    }
   ],
   "source": [
    "class Data:\n",
    "    def __init__(self):\n",
    "        self.name = input(\"Enter name = \")\n",
    "        self.add = input(\"Enter add = \")\n",
    "    def Data(self):\n",
    "        print(self.name ,self.add)\n",
    "            \n",
    "class Info(Data):\n",
    "    def info(self):\n",
    "                 print(f\"Hello world i am {self.name}. i am from {self.add}\")\n",
    "                 \n",
    "obj = Info()\n",
    "obj.Data()\n",
    "obj.info()"
   ]
  },
  {
   "cell_type": "code",
   "execution_count": 8,
   "id": "80a0c877",
   "metadata": {},
   "outputs": [
    {
     "name": "stdout",
     "output_type": "stream",
     "text": [
      "Enter name = amit\n",
      "Enter address = ktm\n",
      "amit ktm\n",
      "Hello world i am amit. i am from ktm\n"
     ]
    }
   ],
   "source": [
    "class Data:\n",
    "    def __init__(self,name,add):\n",
    "        self.name = name\n",
    "        self.add = add\n",
    "        \n",
    "    def Data(self):\n",
    "        print(self.name ,self.add)\n",
    "            \n",
    "class Info(Data):\n",
    "    def info(self):\n",
    "                 print(f\"Hello world i am {self.name}. i am from {self.add}\")\n",
    "            \n",
    "name = input(\"Enter name = \")\n",
    "add = input(\"Enter address = \")\n",
    "obj = Info(name,add)\n",
    "\n",
    "obj.Data()\n",
    "obj.info()"
   ]
  },
  {
   "cell_type": "code",
   "execution_count": 10,
   "id": "4b781718",
   "metadata": {},
   "outputs": [
    {
     "name": "stdout",
     "output_type": "stream",
     "text": [
      "Enter name = amit\n",
      "Enter address = ktm\n",
      "amit ktm\n",
      "Hello world i am amit. i am from ktm\n"
     ]
    }
   ],
   "source": [
    "class Data:\n",
    "    def __init__(self,add):\n",
    "        self.add = add\n",
    "        \n",
    "    def Data(self):\n",
    "        print(self.name ,self.add)\n",
    "            \n",
    "class Info(Data):\n",
    "    def __init__(self,name,add):\n",
    "        self.name = name\n",
    "        Data.__init__(self,add)\n",
    "        \n",
    "    def info(self):\n",
    "                 print(f\"Hello world i am {self.name}. i am from {self.add}\")\n",
    "            \n",
    "name = input(\"Enter name = \")\n",
    "add = input(\"Enter address = \")\n",
    "obj = Info(name,add)\n",
    "\n",
    "obj.Data()\n",
    "obj.info()"
   ]
  },
  {
   "cell_type": "code",
   "execution_count": 30,
   "id": "498eb60d",
   "metadata": {},
   "outputs": [
    {
     "name": "stdout",
     "output_type": "stream",
     "text": [
      "Enter name = amit\n",
      "Enter add = ktm\n",
      "amit ktm\n"
     ]
    }
   ],
   "source": [
    "class Data:\n",
    "    def __init__(self):\n",
    "        self.name = input(\"Enter name = \")\n",
    "        self.add = input(\"Enter add = \")\n",
    "    def Data(self):\n",
    "        print(self.name ,self.add)\n",
    "                 \n",
    "obj = Data()\n",
    "print(obj.name,add)"
   ]
  },
  {
   "cell_type": "code",
   "execution_count": 31,
   "id": "34652699",
   "metadata": {},
   "outputs": [
    {
     "name": "stdout",
     "output_type": "stream",
     "text": [
      "Enter name = amit\n",
      "Enter add = ktm\n",
      "amit ktm\n"
     ]
    }
   ],
   "source": [
    "class Data:\n",
    "    def __init__(self):\n",
    "        self.name = input(\"Enter name = \")\n",
    "        self.add = input(\"Enter add = \")\n",
    "#     def Data(self):\n",
    "#         print(self.name ,self.add)\n",
    "                 \n",
    "obj = Data()\n",
    "print(obj.name,add)"
   ]
  },
  {
   "cell_type": "markdown",
   "id": "0958feee",
   "metadata": {},
   "source": [
    "# multilevel inheritance"
   ]
  },
  {
   "cell_type": "code",
   "execution_count": 12,
   "id": "34f65c69",
   "metadata": {},
   "outputs": [],
   "source": [
    "class a:\n",
    "    pass\n",
    "class b(a):\n",
    "    pass\n",
    "class c(b):\n",
    "    pass\n",
    "\n",
    "obj = c()"
   ]
  },
  {
   "cell_type": "code",
   "execution_count": 13,
   "id": "6580d98e",
   "metadata": {},
   "outputs": [],
   "source": [
    "# multiple inheritance\n",
    "class a:\n",
    "    pass\n",
    "class b:\n",
    "    pass\n",
    "class c(a,b):\n",
    "    pass\n",
    "\n",
    "obj = c()"
   ]
  },
  {
   "cell_type": "code",
   "execution_count": 18,
   "id": "16895dfc",
   "metadata": {},
   "outputs": [
    {
     "name": "stdout",
     "output_type": "stream",
     "text": [
      "Enter name = AMit\n",
      "Enter address = ktm\n",
      "Enter age = 18\n",
      "AMit ktm\n",
      "Hello world i am AMit. i am from ktm i am 18\n"
     ]
    }
   ],
   "source": [
    "# multiplel\n",
    "class Age:\n",
    "    def __init__(self,age):\n",
    "        self.age = age\n",
    "        \n",
    "class Data(Age):\n",
    "    def __init__(self,add,age):\n",
    "        self.add = add\n",
    "        Age.__init__(self,age)\n",
    "    def Data(self):\n",
    "        print(self.name ,self.add)\n",
    "            \n",
    "class Info(Data):\n",
    "    def __init__(self,name,add,age):\n",
    "        self.name = name\n",
    "        Data.__init__(self,add,age)\n",
    "        \n",
    "    def info(self):\n",
    "                 print(f\"Hello world i am {self.name}. i am from {self.add} i am {self.age}\")\n",
    "            \n",
    "name = input(\"Enter name = \")\n",
    "add = input(\"Enter address = \")\n",
    "age = input(\"Enter age = \")\n",
    "obj = Info(name,add,age)\n",
    "\n",
    "obj.Data()\n",
    "obj.info()"
   ]
  },
  {
   "cell_type": "code",
   "execution_count": 19,
   "id": "d6e00ca3",
   "metadata": {},
   "outputs": [
    {
     "name": "stdout",
     "output_type": "stream",
     "text": [
      "Enter name = AMit\n",
      "Enter address = ktm\n",
      "Enter age = 18\n",
      "AMit ktm\n",
      "Hello world i am AMit. i am from ktm i am 18\n"
     ]
    }
   ],
   "source": [
    "# multiplel\n",
    "class Age:\n",
    "    def __init__(self,age):\n",
    "        self.age = age\n",
    "    def age(self):\n",
    "        print(self.age)\n",
    "class Add:\n",
    "    def __init__(self,add,age):\n",
    "        self.add = add\n",
    "        Age.__init__(self,age)\n",
    "    def Data(self):\n",
    "        print(self.name ,self.add)\n",
    "            \n",
    "class Info(Age,Add):\n",
    "    def __init__(self,name,add,age):\n",
    "        self.name = name\n",
    "        Data.__init__(self,add,age)\n",
    "        \n",
    "    def info(self):\n",
    "                 print(f\"Hello world i am {self.name}. i am from {self.add} i am {self.age}\")\n",
    "            \n",
    "name = input(\"Enter name = \")\n",
    "add = input(\"Enter address = \")\n",
    "age = input(\"Enter age = \")\n",
    "obj = Info(name,add,age)\n",
    "\n",
    "obj.Data()\n",
    "obj.info()"
   ]
  },
  {
   "cell_type": "code",
   "execution_count": 23,
   "id": "f3818f8b",
   "metadata": {},
   "outputs": [
    {
     "name": "stdout",
     "output_type": "stream",
     "text": [
      "Enter name = AMit\n",
      "Enter address = ktm\n",
      "Enter age = 18\n",
      "AMit ktm\n",
      "Hello world i am AMit. i am from ktm i am 18\n"
     ]
    }
   ],
   "source": [
    "# multiplel\n",
    "class Age:\n",
    "    def __init__(self,age):\n",
    "        self.age = age\n",
    "    def age(self):\n",
    "        print(self.age)\n",
    "class Add:\n",
    "    def __init__(self,add):\n",
    "        self.add = add\n",
    "#         Age.__init__(self,age)\n",
    "    def Data(self):\n",
    "        print(self.name ,self.add)\n",
    "            \n",
    "class Info(Age,Add):\n",
    "    def __init__(self,name,add,age):\n",
    "        self.name = name\n",
    "        Add.__init__(self,add)\n",
    "        Age.__init__(self,age)\n",
    "        \n",
    "    def info(self):\n",
    "                 print(f\"Hello world i am {self.name}. i am from {self.add} i am {self.age}\")\n",
    "            \n",
    "name = input(\"Enter name = \")\n",
    "add = input(\"Enter address = \")\n",
    "age = input(\"Enter age = \")\n",
    "obj = Info(name,add,age)\n",
    "\n",
    "obj.Data()\n",
    "obj.info()"
   ]
  },
  {
   "cell_type": "markdown",
   "id": "6327aeb1",
   "metadata": {},
   "source": [
    "# private protaceted publish\n"
   ]
  },
  {
   "cell_type": "code",
   "execution_count": 1,
   "id": "489c67ef",
   "metadata": {},
   "outputs": [
    {
     "name": "stdout",
     "output_type": "stream",
     "text": [
      "Enter name = AMit\n",
      "Enter age = 18\n",
      "AMit 18\n"
     ]
    }
   ],
   "source": [
    "#publish\n",
    "class Info:\n",
    "    def __init__(self):\n",
    "        self.name = input(\"Enter name = \")\n",
    "        self.age = input(\"Enter age = \")\n",
    "        \n",
    "obj = Info()\n",
    "print(obj.name,obj.age)"
   ]
  },
  {
   "cell_type": "code",
   "execution_count": 3,
   "id": "18825b60",
   "metadata": {},
   "outputs": [
    {
     "name": "stdout",
     "output_type": "stream",
     "text": [
      "Enter name = Amit\n",
      "Enter age = 18\n",
      "Amit 18\n"
     ]
    }
   ],
   "source": [
    "#protaceted\n",
    "class Info:\n",
    "    def __init__(self):\n",
    "        self._name = input(\"Enter name = \")\n",
    "        self._age = input(\"Enter age = \")\n",
    "        \n",
    "obj = Info()\n",
    "print(obj._name,obj._age)"
   ]
  },
  {
   "cell_type": "code",
   "execution_count": 4,
   "id": "5ce0ffb4",
   "metadata": {},
   "outputs": [
    {
     "name": "stdout",
     "output_type": "stream",
     "text": [
      "Enter name = Amit\n",
      "Enter age = 18\n"
     ]
    },
    {
     "ename": "AttributeError",
     "evalue": "'Info' object has no attribute '__name'",
     "output_type": "error",
     "traceback": [
      "\u001b[1;31m---------------------------------------------------------------------------\u001b[0m",
      "\u001b[1;31mAttributeError\u001b[0m                            Traceback (most recent call last)",
      "Cell \u001b[1;32mIn[4], line 7\u001b[0m\n\u001b[0;32m      4\u001b[0m         \u001b[38;5;28mself\u001b[39m\u001b[38;5;241m.\u001b[39m__age \u001b[38;5;241m=\u001b[39m \u001b[38;5;28minput\u001b[39m(\u001b[38;5;124m\"\u001b[39m\u001b[38;5;124mEnter age = \u001b[39m\u001b[38;5;124m\"\u001b[39m)\n\u001b[0;32m      6\u001b[0m obj \u001b[38;5;241m=\u001b[39m Info()\n\u001b[1;32m----> 7\u001b[0m \u001b[38;5;28mprint\u001b[39m(\u001b[43mobj\u001b[49m\u001b[38;5;241;43m.\u001b[39;49m\u001b[43m__name\u001b[49m,obj\u001b[38;5;241m.\u001b[39m__age)\n",
      "\u001b[1;31mAttributeError\u001b[0m: 'Info' object has no attribute '__name'"
     ]
    }
   ],
   "source": [
    "# private\n",
    "class Info:\n",
    "    def __init__(self):\n",
    "        self.__name = input(\"Enter name = \")\n",
    "        self.__age = input(\"Enter age = \")\n",
    "        \n",
    "obj = Info()\n",
    "print(obj.__name,obj.__age)"
   ]
  },
  {
   "cell_type": "code",
   "execution_count": null,
   "id": "3eedd7c0",
   "metadata": {},
   "outputs": [],
   "source": [
    "# private ---------------------\n",
    "class Info:\n",
    "    def __init__(self):\n",
    "        self.__name = input(\"Enter name = \")\n",
    "        self.__age = input(\"Enter age = \")\n",
    "        \n",
    "obj = Info()\n",
    "print(obj.__name,obj.__age)"
   ]
  },
  {
   "cell_type": "code",
   "execution_count": 12,
   "id": "c95071f0",
   "metadata": {},
   "outputs": [
    {
     "name": "stdout",
     "output_type": "stream",
     "text": [
      "Enter name = AMit\n",
      "Enter add = 16\n",
      "Enter age = 35\n",
      "AMit 16 35\n",
      "Hello world I am AMit. i am from 16\n"
     ]
    }
   ],
   "source": [
    "class Data:\n",
    "    def __init__(self,name,age,add):\n",
    "        self.name = name\n",
    "        self._add = add\n",
    "        self._age = age\n",
    "        \n",
    "    def data(self):\n",
    "        print(self.name,self._add,self._age)\n",
    "        \n",
    "class Info(Data):\n",
    "    def info(self):\n",
    "        print(f\"Hello world I am {self.name}. i am from {self._add}\")\n",
    "              \n",
    "name = input(\"Enter name = \")\n",
    "add = input(\"Enter add = \")\n",
    "age = input(\"Enter age = \")\n",
    "          \n",
    "obj = Info(name,age,add)\n",
    "obj.data()\n",
    "obj.info()"
   ]
  },
  {
   "cell_type": "code",
   "execution_count": 4,
   "id": "250f47cd",
   "metadata": {},
   "outputs": [
    {
     "name": "stdout",
     "output_type": "stream",
     "text": [
      "Enter name = Amit\n",
      "Enter add = kym\n",
      "Enter age = 24\n",
      "Amit kym 24\n",
      "Hello world I am Amit. i am from kym. i am 24\n"
     ]
    }
   ],
   "source": [
    "class Data:\n",
    "    def __init__(self,name,age,add):\n",
    "        self.name = name\n",
    "        self._add = add\n",
    "        self.__age = age\n",
    "        \n",
    "    def data(self):\n",
    "        print(self.name,self._add,self.__age)\n",
    "        \n",
    "class Info(Data):\n",
    "    def info(self):\n",
    "        print(f\"Hello world I am {self.name}. i am from {self._add}. i am {self._Data__age}\")\n",
    "              \n",
    "name = input(\"Enter name = \")\n",
    "add = input(\"Enter add = \")\n",
    "age = input(\"Enter age = \")\n",
    "          \n",
    "obj = Info(name,age,add)\n",
    "obj.data()\n",
    "obj.info()"
   ]
  },
  {
   "cell_type": "code",
   "execution_count": 5,
   "id": "0dbfc6f7",
   "metadata": {},
   "outputs": [
    {
     "name": "stdout",
     "output_type": "stream",
     "text": [
      "Enter name = Amit\n",
      "Enter add = ktm\n",
      "Enter age = 345\n",
      "Amit ktm 345\n",
      "Hello world I am Amit. i am from ktm. i am 345\n"
     ]
    }
   ],
   "source": [
    "class Data:\n",
    "    def __init__(self,name,age,add):\n",
    "        self.name = name\n",
    "        self._add = add\n",
    "        self.__age = age\n",
    "        \n",
    "    def data(self):\n",
    "        print(self.name,self._add,self.__age)\n",
    "    def my_age(self):\n",
    "        return self.__age\n",
    "        \n",
    "class Info(Data):\n",
    "    def info(self):\n",
    "        print(f\"Hello world I am {self.name}. i am from {self._add}. i am {super(). my_age()}\")\n",
    "#         print(f\"Hello world I am {self.name}. i am from {self._add}. i am {self._Data__age}\")\n",
    "              \n",
    "name = input(\"Enter name = \")\n",
    "add = input(\"Enter add = \")\n",
    "age = input(\"Enter age = \")\n",
    "          \n",
    "obj = Info(name,age,add)\n",
    "obj.data()\n",
    "obj.info()"
   ]
  },
  {
   "cell_type": "code",
   "execution_count": null,
   "id": "678642fc",
   "metadata": {},
   "outputs": [],
   "source": []
  }
 ],
 "metadata": {
  "kernelspec": {
   "display_name": "Python 3 (ipykernel)",
   "language": "python",
   "name": "python3"
  },
  "language_info": {
   "codemirror_mode": {
    "name": "ipython",
    "version": 3
   },
   "file_extension": ".py",
   "mimetype": "text/x-python",
   "name": "python",
   "nbconvert_exporter": "python",
   "pygments_lexer": "ipython3",
   "version": "3.10.9"
  }
 },
 "nbformat": 4,
 "nbformat_minor": 5
}
