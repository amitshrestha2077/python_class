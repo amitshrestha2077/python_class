{
 "cells": [
  {
   "cell_type": "code",
   "execution_count": 3,
   "id": "302929f4",
   "metadata": {},
   "outputs": [
    {
     "name": "stdout",
     "output_type": "stream",
     "text": [
      "<class 'str'>\n",
      "<class 'str'>\n",
      "<class 'str'>\n"
     ]
    }
   ],
   "source": [
    "# imutable datatype\n",
    "a = \"Hello world I am python\"\n",
    "b = 'Hello world I am python'\n",
    "c = '''Hello world I am python'''\n",
    "print(type(a))\n",
    "print(type(b))\n",
    "print(type(c))"
   ]
  },
  {
   "cell_type": "code",
   "execution_count": 6,
   "id": "f52e44dd",
   "metadata": {},
   "outputs": [
    {
     "name": "stdout",
     "output_type": "stream",
     "text": [
      "Hello world\n"
     ]
    }
   ],
   "source": [
    "# + *\n",
    "a = \"Hello \"\n",
    "b = \"world\"\n",
    "c = a + b\n",
    "print(c)"
   ]
  },
  {
   "cell_type": "code",
   "execution_count": 8,
   "id": "6fc4a97e",
   "metadata": {},
   "outputs": [
    {
     "name": "stdout",
     "output_type": "stream",
     "text": [
      "HEllo world\n",
      "HEllo world\n",
      "\n"
     ]
    }
   ],
   "source": [
    "a = \"HEllo world\\n\"\n",
    "print(a*2)"
   ]
  },
  {
   "cell_type": "code",
   "execution_count": 9,
   "id": "674dadc3",
   "metadata": {},
   "outputs": [
    {
     "name": "stdout",
     "output_type": "stream",
     "text": [
      "p\n",
      "y\n",
      "t\n",
      "h\n",
      "o\n",
      "n\n"
     ]
    }
   ],
   "source": [
    "a = \"python\"\n",
    "for i in a:\n",
    "    print(i)"
   ]
  },
  {
   "cell_type": "code",
   "execution_count": 14,
   "id": "692f7a9b",
   "metadata": {},
   "outputs": [
    {
     "name": "stdout",
     "output_type": "stream",
     "text": [
      "H\n",
      "Hello\n",
      "HlowrdIa y\n"
     ]
    }
   ],
   "source": [
    "a = \"Hello world I am python\"\n",
    "print(a[0])\n",
    "print(a[0:5])\n",
    "print(a[0:20:2])"
   ]
  },
  {
   "cell_type": "code",
   "execution_count": 19,
   "id": "a412c657",
   "metadata": {},
   "outputs": [
    {
     "name": "stdout",
     "output_type": "stream",
     "text": [
      "n\n"
     ]
    }
   ],
   "source": [
    "a = \"Hello world I am python\"\n",
    "print(a[-1])"
   ]
  },
  {
   "cell_type": "code",
   "execution_count": 21,
   "id": "8a10c059",
   "metadata": {},
   "outputs": [
    {
     "name": "stdout",
     "output_type": "stream",
     "text": [
      "nohtyp\n"
     ]
    }
   ],
   "source": [
    "a = \"Hello world I am python\"\n",
    "print(a[-1:-7:-1])"
   ]
  },
  {
   "cell_type": "code",
   "execution_count": 22,
   "id": "987fbd68",
   "metadata": {},
   "outputs": [
    {
     "name": "stdout",
     "output_type": "stream",
     "text": [
      "nohtyp ma I dlrow olleH\n"
     ]
    }
   ],
   "source": [
    "a = \"Hello world I am python\"   #reverce all\n",
    "print(a[::-1])"
   ]
  },
  {
   "cell_type": "code",
   "execution_count": 23,
   "id": "73dc73a4",
   "metadata": {},
   "outputs": [
    {
     "name": "stdout",
     "output_type": "stream",
     "text": [
      "654321\n"
     ]
    }
   ],
   "source": [
    "a = \"123456\"   #reverce all\n",
    "print(a[::-1])"
   ]
  },
  {
   "cell_type": "code",
   "execution_count": 24,
   "id": "378033c2",
   "metadata": {},
   "outputs": [
    {
     "name": "stdout",
     "output_type": "stream",
     "text": [
      "Hello\n"
     ]
    }
   ],
   "source": [
    "a = \"Hello world I am python\"\n",
    "b = a[0:5]\n",
    "print(b)"
   ]
  },
  {
   "cell_type": "code",
   "execution_count": 26,
   "id": "95420566",
   "metadata": {},
   "outputs": [
    {
     "name": "stdout",
     "output_type": "stream",
     "text": [
      "23\n"
     ]
    }
   ],
   "source": [
    "a = \"Hello world I am python\"\n",
    "l = len(a)  #counting latter\n",
    "print(l)"
   ]
  },
  {
   "cell_type": "code",
   "execution_count": 28,
   "id": "2e09ce27",
   "metadata": {},
   "outputs": [
    {
     "name": "stdout",
     "output_type": "stream",
     "text": [
      "Hello world I am python"
     ]
    }
   ],
   "source": [
    "a = \"Hello world I am python\"   #for loop\n",
    "l = len(a)  #counting latter\n",
    "for i in range(l):\n",
    "    print(a[i], end = \"\")"
   ]
  },
  {
   "cell_type": "code",
   "execution_count": 31,
   "id": "e6969e8b",
   "metadata": {},
   "outputs": [
    {
     "name": "stdout",
     "output_type": "stream",
     "text": [
      "Hello world I am python"
     ]
    }
   ],
   "source": [
    "a = \"Hello world I am python\"  #while loop\n",
    "l = len(a)\n",
    "i = 0 \n",
    "while i<l:\n",
    "    print(a[i], end = \"\")\n",
    "    i = i + 1"
   ]
  },
  {
   "cell_type": "code",
   "execution_count": 37,
   "id": "7ce881d7",
   "metadata": {},
   "outputs": [
    {
     "name": "stdout",
     "output_type": "stream",
     "text": [
      "5\n",
      "11\n",
      "13\n",
      "16\n"
     ]
    }
   ],
   "source": [
    "a = \"Hello world I am python\"   #for loop \n",
    "l = len(a)  \n",
    "for i in range(l):\n",
    "    if a[i] == \" \":  #how many speac find\n",
    "        print(i)"
   ]
  },
  {
   "cell_type": "code",
   "execution_count": 1,
   "id": "dd0e5c31",
   "metadata": {},
   "outputs": [
    {
     "data": {
      "text/plain": [
       "'Hello world i am Rami am from mirchaiyai am 24'"
      ]
     },
     "execution_count": 1,
     "metadata": {},
     "output_type": "execute_result"
    }
   ],
   "source": [
    "# string formatting\n",
    "name = \"Ram\"\n",
    "age = 24\n",
    "add = \"mirchaiya\"\n",
    "\n",
    "info = \"Hello world i am \"+name+ \"i am from \"+ add +\"i am \"+str(age)\n",
    "info"
   ]
  },
  {
   "cell_type": "raw",
   "id": "7e531108",
   "metadata": {},
   "source": []
  },
  {
   "cell_type": "code",
   "execution_count": 1,
   "id": "af0fa2f0",
   "metadata": {},
   "outputs": [
    {
     "data": {
      "text/plain": [
       "'Hello world i am Ram i am from mirchaiya i am 24'"
      ]
     },
     "execution_count": 1,
     "metadata": {},
     "output_type": "execute_result"
    }
   ],
   "source": [
    "# string formatting\n",
    "name = \"Ram\"\n",
    "age = 24\n",
    "add = \"mirchaiya\"\n",
    "\n",
    "info = f\"Hello world i am {name} i am from {add} i am {age}\"\n",
    "info"
   ]
  },
  {
   "cell_type": "code",
   "execution_count": 1,
   "id": "fb29a48c",
   "metadata": {},
   "outputs": [
    {
     "name": "stdout",
     "output_type": "stream",
     "text": [
      "ENter n = 2\n",
      "Enter namne = amit\n",
      "Enter price = 42424\n",
      "Enter Qty = 23\n",
      "Enter namne = sfdad\n",
      "Enter price = 3423\n",
      "Enter Qty = 325\n",
      "amit 42424 975752 \n",
      "sfdad 3423 1112475 \n",
      "\n",
      "all_total: 2088227\n"
     ]
    }
   ],
   "source": [
    "# WAP to create a billing system  (Product,price, qty,total,all_total)\n",
    "\n",
    "bill = \"\"\n",
    "all_total = 0\n",
    "n = int(input(\"ENter n = \"))\n",
    "for i in range(n):\n",
    "    name = input(\"Enter namne = \")\n",
    "    price = int(input(\"Enter price = \"))\n",
    "    qty = int(input(\"Enter Qty = \"))\n",
    "    total = price * qty\n",
    "    data = f\"{name} {price} {total} \\n\"\n",
    "    bill = bill + data \n",
    "    all_total = all_total + total\n",
    "print(bill)\n",
    "print(\"all_total:\",all_total)"
   ]
  },
  {
   "cell_type": "code",
   "execution_count": 8,
   "id": "0b1d4138",
   "metadata": {},
   "outputs": [
    {
     "name": "stdout",
     "output_type": "stream",
     "text": [
      "Enter name = Ram\n",
      "no\n"
     ]
    }
   ],
   "source": [
    "# search in string\n",
    "a = \"ram shyam hari suraj prajwal nabin\"\n",
    "name = input(\"Enter name = \")\n",
    "if name in a:\n",
    "    print(\"yes there is \",name)\n",
    "    print(a.count(name))\n",
    "else:\n",
    "    print(\"no\")"
   ]
  },
  {
   "cell_type": "code",
   "execution_count": 9,
   "id": "d3c215d4",
   "metadata": {},
   "outputs": [
    {
     "name": "stdout",
     "output_type": "stream",
     "text": [
      "RAM SHYAM HARI SURAJ PRAJWAL NABIN\n",
      "ram shyam hari suraj prajwal nabin\n"
     ]
    }
   ],
   "source": [
    "a = \"ram shyam hari suraj prajwal nabin\"\n",
    "print(a.upper())\n",
    "print(a.lower())\n"
   ]
  },
  {
   "cell_type": "code",
   "execution_count": 14,
   "id": "47e80fdd",
   "metadata": {},
   "outputs": [
    {
     "name": "stdout",
     "output_type": "stream",
     "text": [
      "Enter name = rAm\n",
      "yes there is  ram\n",
      "1\n"
     ]
    }
   ],
   "source": [
    "# search in string\n",
    "a = \"ram shyam hari suraj prajwal nabin\".lower()   # .lower() , .upper()  find out small big latter\n",
    "name = input(\"Enter name = \").lower()\n",
    "if name in a:\n",
    "    print(\"yes there is \",name)\n",
    "    print(a.count(name))\n",
    "else:\n",
    "    print(\"no\")"
   ]
  },
  {
   "cell_type": "code",
   "execution_count": 3,
   "id": "9fd07fcc",
   "metadata": {},
   "outputs": [
    {
     "data": {
      "text/plain": [
       "'rama shyam hari suraj prajwal ramaesh'"
      ]
     },
     "execution_count": 3,
     "metadata": {},
     "output_type": "execute_result"
    }
   ],
   "source": [
    "# replace\n",
    "a = \"ram shyam hari suraj prajwal ramesh\"\n",
    "a = a.replace(\"ram\",\"rama\") #whitout space\n",
    "a"
   ]
  },
  {
   "cell_type": "code",
   "execution_count": 7,
   "id": "0d710a58",
   "metadata": {},
   "outputs": [
    {
     "data": {
      "text/plain": [
       "'rama shyam hari suraj prajwal ramesh'"
      ]
     },
     "execution_count": 7,
     "metadata": {},
     "output_type": "execute_result"
    }
   ],
   "source": [
    "# replace\n",
    "a = \"ram shyam hari suraj prajwal ramesh\"\n",
    "a = a.replace(\"ram \",\"rama \") #whit space\n",
    "a"
   ]
  },
  {
   "cell_type": "code",
   "execution_count": 8,
   "id": "930bf190",
   "metadata": {},
   "outputs": [
    {
     "data": {
      "text/plain": [
       "'ram shyam suraj prajwal ramesh'"
      ]
     },
     "execution_count": 8,
     "metadata": {},
     "output_type": "execute_result"
    }
   ],
   "source": [
    "# delete\n",
    "a = \"ram shyam hari suraj prajwal ramesh\"\n",
    "a = a.replace(\"hari \",\"\") #delete\n",
    "a"
   ]
  },
  {
   "cell_type": "code",
   "execution_count": null,
   "id": "e8bd23b9",
   "metadata": {},
   "outputs": [],
   "source": []
  }
 ],
 "metadata": {
  "kernelspec": {
   "display_name": "Python 3 (ipykernel)",
   "language": "python",
   "name": "python3"
  },
  "language_info": {
   "codemirror_mode": {
    "name": "ipython",
    "version": 3
   },
   "file_extension": ".py",
   "mimetype": "text/x-python",
   "name": "python",
   "nbconvert_exporter": "python",
   "pygments_lexer": "ipython3",
   "version": "3.10.9"
  }
 },
 "nbformat": 4,
 "nbformat_minor": 5
}
