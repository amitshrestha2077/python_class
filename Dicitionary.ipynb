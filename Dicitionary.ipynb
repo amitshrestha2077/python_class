{
 "cells": [
  {
   "cell_type": "code",
   "execution_count": 4,
   "id": "3d8227a4",
   "metadata": {},
   "outputs": [],
   "source": [
    "# dict\n",
    "# -indexing\n",
    "# -multiple and duplicate data\n",
    "# -ordered\n",
    "# -mutable"
   ]
  },
  {
   "cell_type": "code",
   "execution_count": null,
   "id": "20615eca",
   "metadata": {},
   "outputs": [],
   "source": [
    "d = {}\n",
    "d = dict"
   ]
  },
  {
   "cell_type": "code",
   "execution_count": 5,
   "id": "bfeae7e0",
   "metadata": {},
   "outputs": [],
   "source": [
    "# d = {<key>:<value>,<key>:<value>}"
   ]
  },
  {
   "cell_type": "code",
   "execution_count": 13,
   "id": "f297060c",
   "metadata": {},
   "outputs": [
    {
     "name": "stdout",
     "output_type": "stream",
     "text": [
      "<class 'dict'>\n",
      "{'a': 'apple', 'b': 'ball', 'c': 'cat', 'd': 'dog'}\n"
     ]
    }
   ],
   "source": [
    "d = {'a':'apple','b':'ball','c':'cat','d':'dog'}\n",
    "print(type(d))\n",
    "print(d)"
   ]
  },
  {
   "cell_type": "code",
   "execution_count": 16,
   "id": "adca11cf",
   "metadata": {},
   "outputs": [
    {
     "name": "stdout",
     "output_type": "stream",
     "text": [
      "<class 'dict'>\n",
      "{'a': 'apple', 'b': 'ball', 'c': 'cat', 'd': 'dog'}\n"
     ]
    }
   ],
   "source": [
    "d = {'a':'apple','b':'ball','c':'cat','d':'dog'}\n",
    "print(type(d))\n",
    "print(d)"
   ]
  },
  {
   "cell_type": "code",
   "execution_count": 17,
   "id": "d9227cf5",
   "metadata": {},
   "outputs": [
    {
     "name": "stdout",
     "output_type": "stream",
     "text": [
      "dog\n"
     ]
    }
   ],
   "source": [
    "print(d['d'])"
   ]
  },
  {
   "cell_type": "code",
   "execution_count": 18,
   "id": "0cb66b4f",
   "metadata": {},
   "outputs": [
    {
     "data": {
      "text/plain": [
       "4"
      ]
     },
     "execution_count": 18,
     "metadata": {},
     "output_type": "execute_result"
    }
   ],
   "source": [
    "d = {'a':'apple','b':'ball','c':'cat','d':'dog'}\n",
    "len(d)"
   ]
  },
  {
   "cell_type": "code",
   "execution_count": 19,
   "id": "6fcc4855",
   "metadata": {},
   "outputs": [
    {
     "data": {
      "text/plain": [
       "{'a': 'Apple', 'b': 'ball', 'c': 'cat', 'd': 'dog'}"
      ]
     },
     "execution_count": 19,
     "metadata": {},
     "output_type": "execute_result"
    }
   ],
   "source": [
    "d = {'a':'apple','b':'ball','c':'cat','d':'dog','a':'Apple'}\n",
    "d"
   ]
  },
  {
   "cell_type": "code",
   "execution_count": 20,
   "id": "10deb43d",
   "metadata": {},
   "outputs": [
    {
     "data": {
      "text/plain": [
       "{'a': 'apple', 'b': 'ball', 'c': 'cat', 'd': 'dog'}"
      ]
     },
     "execution_count": 20,
     "metadata": {},
     "output_type": "execute_result"
    }
   ],
   "source": [
    "d = {'a':'apple','b':'ball','c':'cat','d':'dog','a':'apple'}\n",
    "d"
   ]
  },
  {
   "cell_type": "code",
   "execution_count": 21,
   "id": "057aadb0",
   "metadata": {},
   "outputs": [],
   "source": [
    "# NO + *"
   ]
  },
  {
   "cell_type": "code",
   "execution_count": 25,
   "id": "956bbc76",
   "metadata": {},
   "outputs": [
    {
     "data": {
      "text/plain": [
       "{'a': 'apple', 'b': 'ball', 'c': 'cat', 'd': 'Dog'}"
      ]
     },
     "execution_count": 25,
     "metadata": {},
     "output_type": "execute_result"
    }
   ],
   "source": [
    "d = {'a':'apple','b':'ball','c':'cat',}\n",
    "e  = {'d':'Dog'}\n",
    "d.update(e)\n",
    "d\n"
   ]
  },
  {
   "cell_type": "markdown",
   "id": "35aec9c9",
   "metadata": {},
   "source": [
    "# #Creating decitionary"
   ]
  },
  {
   "cell_type": "code",
   "execution_count": 28,
   "id": "25827223",
   "metadata": {},
   "outputs": [
    {
     "data": {
      "text/plain": [
       "{'a': 'Apple', 'b': 'ball', 'c': 'cat', 'd': 'dog'}"
      ]
     },
     "execution_count": 28,
     "metadata": {},
     "output_type": "execute_result"
    }
   ],
   "source": [
    "# Creating decitionary\n",
    "d = {}\n",
    "d['a'] = \"Apple\"\n",
    "d['b'] = \"ball\"\n",
    "d['c'] = \"cat\"\n",
    "d['d'] = \"dog\"\n",
    "d"
   ]
  },
  {
   "cell_type": "code",
   "execution_count": 1,
   "id": "3c66af62",
   "metadata": {},
   "outputs": [
    {
     "name": "stdout",
     "output_type": "stream",
     "text": [
      "enter n = 2\n",
      "Enter name = amit\n",
      "Enter number = 3525\n",
      "Enter name = namsv\n",
      "Enter number = 354\n",
      "{'amit': '3525', 'namsv': '354'}\n"
     ]
    }
   ],
   "source": [
    "info = {}\n",
    "n = int(input(\"enter n = \"))\n",
    "for i in range(n):\n",
    "    name = input(\"Enter name = \")\n",
    "    phone = input(\"Enter number = \")\n",
    "    info[name] = phone\n",
    "    \n",
    "print(info)"
   ]
  },
  {
   "cell_type": "code",
   "execution_count": 2,
   "id": "1ffb5826",
   "metadata": {},
   "outputs": [
    {
     "name": "stdout",
     "output_type": "stream",
     "text": [
      "amit\n",
      "namsv\n"
     ]
    }
   ],
   "source": [
    "d = {'amit': '3525', 'namsv': '354'}     #latter\n",
    "for i in d:\n",
    "    print(i)"
   ]
  },
  {
   "cell_type": "code",
   "execution_count": 5,
   "id": "15c3e9d9",
   "metadata": {},
   "outputs": [
    {
     "name": "stdout",
     "output_type": "stream",
     "text": [
      "3525\n",
      "354\n"
     ]
    }
   ],
   "source": [
    "d = {'amit': '3525', 'namsv': '354'}     #number\n",
    "for i in d.values():\n",
    "    print(i)"
   ]
  },
  {
   "cell_type": "code",
   "execution_count": 6,
   "id": "c3220e02",
   "metadata": {},
   "outputs": [
    {
     "name": "stdout",
     "output_type": "stream",
     "text": [
      "('amit', '3525')\n",
      "('namsv', '354')\n"
     ]
    }
   ],
   "source": [
    "d = {'amit': '3525', 'namsv': '354'}     #number\n",
    "for i in d.items():\n",
    "    print(i)"
   ]
  },
  {
   "cell_type": "code",
   "execution_count": 8,
   "id": "46fb6655",
   "metadata": {},
   "outputs": [
    {
     "data": {
      "text/plain": [
       "{'Ram': 9876543, 'hari': 9876789}"
      ]
     },
     "execution_count": 8,
     "metadata": {},
     "output_type": "execute_result"
    }
   ],
   "source": [
    "d = [['Ram',9876543],\n",
    "    ['hari',9876789]]\n",
    "dict(d)"
   ]
  },
  {
   "cell_type": "code",
   "execution_count": 11,
   "id": "f72d96c8",
   "metadata": {},
   "outputs": [
    {
     "data": {
      "text/plain": [
       "{'Ram': 87678909876, 'hari': 9876789}"
      ]
     },
     "execution_count": 11,
     "metadata": {},
     "output_type": "execute_result"
    }
   ],
   "source": [
    "# update\n",
    "d = {'Ram': 9876543, 'hari': 9876789}\n",
    "d['Ram'] = 87678909876\n",
    "d"
   ]
  },
  {
   "cell_type": "code",
   "execution_count": 12,
   "id": "6d59f67e",
   "metadata": {},
   "outputs": [
    {
     "data": {
      "text/plain": [
       "{'hari': 9876789}"
      ]
     },
     "execution_count": 12,
     "metadata": {},
     "output_type": "execute_result"
    }
   ],
   "source": [
    "# delete\n",
    "d = {'Ram': 9876543, 'hari': 9876789}\n",
    "del d['Ram']\n",
    "d"
   ]
  },
  {
   "cell_type": "code",
   "execution_count": 14,
   "id": "e066718a",
   "metadata": {},
   "outputs": [
    {
     "name": "stdout",
     "output_type": "stream",
     "text": [
      "{'hari': 9876789}\n",
      "9876543\n"
     ]
    }
   ],
   "source": [
    "# delete\n",
    "d = {'Ram': 9876543, 'hari': 9876789}\n",
    "e = d.pop('Ram')\n",
    "print(d)\n",
    "print(e)"
   ]
  },
  {
   "cell_type": "code",
   "execution_count": 15,
   "id": "5f4ab994",
   "metadata": {},
   "outputs": [
    {
     "data": {
      "text/plain": [
       "{'Ram': [9876543, 2435434], 'hari': [9876789, 2435432]}"
      ]
     },
     "execution_count": 15,
     "metadata": {},
     "output_type": "execute_result"
    }
   ],
   "source": [
    "# list inside dict\n",
    "d = {'Ram': [9876543,2435434], 'hari': [9876789,2435432]}\n",
    "d"
   ]
  },
  {
   "cell_type": "code",
   "execution_count": 26,
   "id": "ea771359",
   "metadata": {},
   "outputs": [
    {
     "name": "stdout",
     "output_type": "stream",
     "text": [
      "enter n = 2\n",
      "Enter name = amit\n",
      "Enter ntc number = 9774532\n",
      "Enter ncell number = 3485745\n",
      "Enter name = hari\n",
      "Enter ntc number = 978\n",
      "Enter ncell number = 644636\n",
      "{'amit': ['9774532', '3485745'], 'hari': ['978', '644636']}\n"
     ]
    }
   ],
   "source": [
    "info = {}\n",
    "n = int(input(\"enter n = \"))\n",
    "for i in range(n):\n",
    "    name = input(\"Enter name = \")\n",
    "    ntc_phone = input(\"Enter ntc number = \")\n",
    "    ncell_phone = input(\"Enter ncell number = \")\n",
    "    info[name] = [ntc_phone,ncell_phone]\n",
    "    \n",
    "print(info)"
   ]
  },
  {
   "cell_type": "code",
   "execution_count": 27,
   "id": "40abca2c",
   "metadata": {},
   "outputs": [
    {
     "data": {
      "text/plain": [
       "'9774532'"
      ]
     },
     "execution_count": 27,
     "metadata": {},
     "output_type": "execute_result"
    }
   ],
   "source": [
    "info['amit'][0]\n"
   ]
  },
  {
   "cell_type": "code",
   "execution_count": 38,
   "id": "e188a282",
   "metadata": {},
   "outputs": [],
   "source": [
    "d = {'name' :['ram','hari','shyam'],\n",
    "     'age':[98,42,42],\n",
    "     'add':['ktm','lahan','mirchaiya']}"
   ]
  },
  {
   "cell_type": "code",
   "execution_count": 1,
   "id": "0597f292",
   "metadata": {},
   "outputs": [
    {
     "name": "stdout",
     "output_type": "stream",
     "text": [
      "enter n = 2\n",
      "Enter name = ram\n",
      "Enter age = 19\n",
      "Enter add = mirchaiya\n",
      "Enter name = hari\n",
      "Enter age = 14\n",
      "Enter add = ktm\n"
     ]
    },
    {
     "data": {
      "text/plain": [
       "{'name': ['ram', 'hari'], 'age': ['19', '14'], 'add': ['mirchaiya', 'ktm']}"
      ]
     },
     "execution_count": 1,
     "metadata": {},
     "output_type": "execute_result"
    }
   ],
   "source": [
    "d = {'name':[],'age':[],'add':[]}\n",
    "n = int(input(\"enter n = \"))\n",
    "for i in range(n):\n",
    "    name = input(\"Enter name = \")\n",
    "    age = input(\"Enter age = \")\n",
    "    add = input(\"Enter add = \")\n",
    "    d['name'].append(name)\n",
    "    d['age'].append(age)\n",
    "    d['add'].append(add)\n",
    "    \n",
    "d"
   ]
  },
  {
   "cell_type": "code",
   "execution_count": 4,
   "id": "77dd6e23",
   "metadata": {},
   "outputs": [
    {
     "name": "stdout",
     "output_type": "stream",
     "text": [
      "0\n"
     ]
    }
   ],
   "source": [
    "c = 0\n",
    "for i in d['name']:\n",
    "    if i == \"ram\":\n",
    "        print(c)\n",
    "    c = c+1"
   ]
  },
  {
   "cell_type": "code",
   "execution_count": 5,
   "id": "ffed083d",
   "metadata": {},
   "outputs": [
    {
     "name": "stdout",
     "output_type": "stream",
     "text": [
      "ram\n",
      "19\n",
      "mirchaiya\n"
     ]
    }
   ],
   "source": [
    "c = 0\n",
    "for i in d['name']:\n",
    "    if i == \"ram\":\n",
    "        print(d['name'][0])\n",
    "        print(d['age'][0])\n",
    "        print(d['add'][0])\n",
    "        \n",
    "    c = c+1\n"
   ]
  },
  {
   "cell_type": "code",
   "execution_count": null,
   "id": "c2e21f3b",
   "metadata": {},
   "outputs": [],
   "source": []
  }
 ],
 "metadata": {
  "kernelspec": {
   "display_name": "Python 3 (ipykernel)",
   "language": "python",
   "name": "python3"
  },
  "language_info": {
   "codemirror_mode": {
    "name": "ipython",
    "version": 3
   },
   "file_extension": ".py",
   "mimetype": "text/x-python",
   "name": "python",
   "nbconvert_exporter": "python",
   "pygments_lexer": "ipython3",
   "version": "3.10.9"
  }
 },
 "nbformat": 4,
 "nbformat_minor": 5
}
