{
 "cells": [
  {
   "cell_type": "code",
   "execution_count": 16,
   "id": "38ebffaa",
   "metadata": {},
   "outputs": [
    {
     "name": "stdout",
     "output_type": "stream",
     "text": [
      "Defaulting to user installation because normal site-packages is not writeable\n",
      "Requirement already satisfied: mysql-connector in c:\\users\\hp\\appdata\\roaming\\python\\python310\\site-packages (2.2.9)\n"
     ]
    }
   ],
   "source": [
    "!pip install mysql-connector"
   ]
  },
  {
   "cell_type": "code",
   "execution_count": 4,
   "id": "a63acadd",
   "metadata": {},
   "outputs": [],
   "source": [
    "# import mysql.connector\n",
    "# #importing database\n",
    "# database = mysql.connector.connect(\n",
    "#             host=\"localhost\",\n",
    "#             user=\"root\",\n",
    "#             password=\"\"\n",
    "# )\n",
    "# db = database.cursor()\n",
    "\n",
    "# db.execute(\"CREATE DATABASE pythons\")\n",
    "\n",
    "import mysql.connector\n",
    "#importing database\n",
    "database = mysql.connector.connect(\n",
    "            host=\"localhost\",\n",
    "            user=\"root\",\n",
    "            password=\"\"\n",
    ")\n",
    "db = database.cursor()\n",
    "\n",
    "# db.execute(\"CREATE DATABASE pythons\")"
   ]
  },
  {
   "cell_type": "code",
   "execution_count": 5,
   "id": "8d69aabc",
   "metadata": {},
   "outputs": [],
   "source": [
    "import mysql.connector\n",
    "#importing database\n",
    "database = mysql.connector.connect(\n",
    "            host=\"localhost\",\n",
    "            user=\"root\",\n",
    "            password=\"\",\n",
    "            database = \"class-8am\"\n",
    ")\n",
    "db = database.cursor()\n"
   ]
  },
  {
   "cell_type": "code",
   "execution_count": 6,
   "id": "91538f50",
   "metadata": {},
   "outputs": [
    {
     "name": "stdout",
     "output_type": "stream",
     "text": [
      "(1, 'AMit\\r\\n', 43, 55, 44, 76, 64, 53, 99, 'A')\n",
      "(2, 'hari', 543, 43, 44, 45, 55, 98, 34, 'A')\n",
      "(8, 'Rama', 89, 78, 89, 67, 86, 400, 80, 'A')\n",
      "(9, 'aman', 77, 66, 99, 76, 86, 404, 81, 'A')\n",
      "(11, 'sanjay', 55, 66, 87, 567, 76, 851, 170, 'C')\n"
     ]
    }
   ],
   "source": [
    "db.execute(\"SELECT * FROM student\")\n",
    "result =db.fetchall()\n",
    "for x in result:\n",
    "           print(x)"
   ]
  },
  {
   "cell_type": "code",
   "execution_count": 7,
   "id": "a12610e7",
   "metadata": {},
   "outputs": [],
   "source": [
    "# INSERT INTO student ('id', 'name', 'physics', 'chemistry', 'math', 'english', 'nepali','total','per', 'grade' )"
   ]
  },
  {
   "cell_type": "code",
   "execution_count": 8,
   "id": "440522a1",
   "metadata": {},
   "outputs": [
    {
     "name": "stdout",
     "output_type": "stream",
     "text": [
      "(1, 'AMit\\r\\n', 43, 55, 44, 76, 64, 53, 99, 'A')\n",
      "(2, 'hari', 543, 43, 44, 45, 55, 98, 34, 'A')\n",
      "(8, 'Rama', 89, 78, 89, 67, 86, 400, 80, 'A')\n",
      "(9, 'aman', 77, 66, 99, 76, 86, 404, 81, 'A')\n"
     ]
    }
   ],
   "source": [
    "db.execute(\"SELECT * FROM student WHERE grade = 'A' \")\n",
    "result =db.fetchall()\n",
    "for x in result:\n",
    "    print(x)"
   ]
  },
  {
   "cell_type": "code",
   "execution_count": 9,
   "id": "0ea9fbac",
   "metadata": {},
   "outputs": [],
   "source": [
    "# #added\n",
    "\n",
    "# sql = '''INSERT INTO `student` (`sn`, `name`, `physics`, `chemistry`, `math`, `english`, `nepali`,\n",
    "# `total`, `per`, `grade`) \n",
    "# VALUES ('8', 'Rama', '89', '78', '89', '67', '86', '400', '80', 'A')'''\n",
    "# db.execute(sql)\n",
    "# database.commit()"
   ]
  },
  {
   "cell_type": "code",
   "execution_count": 11,
   "id": "04d62c11",
   "metadata": {},
   "outputs": [
    {
     "name": "stdout",
     "output_type": "stream",
     "text": [
      "ENter name = Anu \n",
      "Enter physics marks= 99\n",
      "Enter chemistry marks= 99\n",
      "Enter math marks= 99\n",
      "Enter english marks= 99\n",
      "Enter nepali marks= 99\n"
     ]
    }
   ],
   "source": [
    "#Enter new\n",
    "name = input(\"ENter name = \")\n",
    "physics = int(input(\"Enter physics marks= \"))\n",
    "chemistry = int(input(\"Enter chemistry marks= \"))\n",
    "math = int(input(\"Enter math marks= \"))\n",
    "english = int(input(\"Enter english marks= \"))\n",
    "nepali = int(input(\"Enter nepali marks= \"))\n",
    "\n",
    "if physics>=32 and chemistry>=32 and math>=32 and english>=32 and nepali>=32:\n",
    "    total = physics + chemistry + math + english + nepali\n",
    "    per = total/5\n",
    "    \n",
    "    if per > 80:\n",
    "        grade = \"A\"\n",
    "    elif per >= 60:\n",
    "        grade = \"B\"\n",
    "    elif per >= 45:\n",
    "        grade = \"C\"\n",
    "    elif per >= 32:\n",
    "        grade = \"D\"\n",
    "    else:\n",
    "        grade = \"F\"\n",
    "        \n",
    "    sql = f'''INSERT INTO `student` (name,physics,chemistry,math,english,nepali,total,per,grade) \n",
    "    VALUES ('{name}',{physics},{chemistry},{math},{english},{nepali},{total},{per},'{grade}')'''\n",
    "    db.execute(sql)\n",
    "    database.commit()\n",
    "    print = sql  #find error\n",
    "\n",
    "else:\n",
    "    print(\"You are Failed\")"
   ]
  },
  {
   "cell_type": "code",
   "execution_count": 12,
   "id": "6597dd3f",
   "metadata": {},
   "outputs": [],
   "source": [
    "sql = f\"UPDATE student SET grade = 'A+' WHERE name = 'Anu'\"\n",
    "db.execute(sql)\n",
    "database.commit()"
   ]
  },
  {
   "cell_type": "code",
   "execution_count": 17,
   "id": "072ac73a",
   "metadata": {},
   "outputs": [
    {
     "name": "stdout",
     "output_type": "stream",
     "text": [
      "Enter grade = B\n",
      "Enter physics marks = 66\n"
     ]
    }
   ],
   "source": [
    "# Delete \n",
    "grade = input(\"Enter grade = \")\n",
    "physics = input(\"Enter physics marks = \")\n",
    "sql = f\"DELETE FROM student WHERE grade = '{grade}' and physics={physics }\"\n",
    "db.execute(sql)\n",
    "database.commit()"
   ]
  },
  {
   "cell_type": "code",
   "execution_count": 13,
   "id": "784528d1",
   "metadata": {},
   "outputs": [
    {
     "data": {
      "text/plain": [
       "'C:\\\\Users\\\\HP\\\\Python-class'"
      ]
     },
     "execution_count": 13,
     "metadata": {},
     "output_type": "execute_result"
    }
   ],
   "source": [
    "pwd\n"
   ]
  },
  {
   "cell_type": "code",
   "execution_count": null,
   "id": "9f973f57",
   "metadata": {},
   "outputs": [],
   "source": []
  }
 ],
 "metadata": {
  "kernelspec": {
   "display_name": "Python 3 (ipykernel)",
   "language": "python",
   "name": "python3"
  },
  "language_info": {
   "codemirror_mode": {
    "name": "ipython",
    "version": 3
   },
   "file_extension": ".py",
   "mimetype": "text/x-python",
   "name": "python",
   "nbconvert_exporter": "python",
   "pygments_lexer": "ipython3",
   "version": "3.10.9"
  }
 },
 "nbformat": 4,
 "nbformat_minor": 5
}
