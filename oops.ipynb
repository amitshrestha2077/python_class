{
 "cells": [
  {
   "cell_type": "code",
   "execution_count": 1,
   "id": "1b8f3e0e",
   "metadata": {},
   "outputs": [],
   "source": [
    "#class <class_name>:\n",
    " #   <methods>\n",
    "    \n",
    "#obj = <class_name>()"
   ]
  },
  {
   "cell_type": "code",
   "execution_count": 1,
   "id": "1fd70f42",
   "metadata": {},
   "outputs": [
    {
     "ename": "TypeError",
     "evalue": "Hello.hello() takes 0 positional arguments but 1 was given",
     "output_type": "error",
     "traceback": [
      "\u001b[1;31m---------------------------------------------------------------------------\u001b[0m",
      "\u001b[1;31mTypeError\u001b[0m                                 Traceback (most recent call last)",
      "Cell \u001b[1;32mIn[1], line 6\u001b[0m\n\u001b[0;32m      3\u001b[0m         \u001b[38;5;28mprint\u001b[39m(\u001b[38;5;124m\"\u001b[39m\u001b[38;5;124mHello world\u001b[39m\u001b[38;5;124m\"\u001b[39m)\n\u001b[0;32m      5\u001b[0m obj \u001b[38;5;241m=\u001b[39m Hello()              \u001b[38;5;66;03m#object\u001b[39;00m\n\u001b[1;32m----> 6\u001b[0m \u001b[43mobj\u001b[49m\u001b[38;5;241;43m.\u001b[39;49m\u001b[43mhello\u001b[49m\u001b[43m(\u001b[49m\u001b[43m)\u001b[49m\n",
      "\u001b[1;31mTypeError\u001b[0m: Hello.hello() takes 0 positional arguments but 1 was given"
     ]
    }
   ],
   "source": [
    "class Hello:               #class\n",
    "    def hello():           #methods\n",
    "        print(\"Hello world\")\n",
    "        \n",
    "obj = Hello()              #object\n",
    "obj.hello()"
   ]
  },
  {
   "cell_type": "code",
   "execution_count": 2,
   "id": "67e2b2e4",
   "metadata": {},
   "outputs": [
    {
     "name": "stdout",
     "output_type": "stream",
     "text": [
      "Hello world\n"
     ]
    }
   ],
   "source": [
    "class Hello:               #class\n",
    "    @staticmethod           #to run \n",
    "    def hello():           #methods\n",
    "        print(\"Hello world\")\n",
    "        \n",
    "obj = Hello()              #object\n",
    "obj.hello()"
   ]
  },
  {
   "cell_type": "code",
   "execution_count": 4,
   "id": "37773b5d",
   "metadata": {},
   "outputs": [
    {
     "name": "stdout",
     "output_type": "stream",
     "text": [
      "Hello world\n"
     ]
    }
   ],
   "source": [
    "class Hello:               #class\n",
    "   #@staticmethod\n",
    "    def hello(self):           #methods    #self is use for to run\n",
    "        print(\"Hello world\")\n",
    "        \n",
    "obj = Hello()              #object\n",
    "obj.hello()"
   ]
  },
  {
   "cell_type": "code",
   "execution_count": 5,
   "id": "1948cd68",
   "metadata": {},
   "outputs": [
    {
     "name": "stdout",
     "output_type": "stream",
     "text": [
      "Hello world\n"
     ]
    }
   ],
   "source": [
    "class Hello:               #class\n",
    "   #@staticmethod\n",
    "    def hello(e):           #methods  \n",
    "        print(\"Hello world\")\n",
    "        \n",
    "obj = Hello()              #object\n",
    "obj.hello()"
   ]
  },
  {
   "cell_type": "code",
   "execution_count": 7,
   "id": "41493337",
   "metadata": {},
   "outputs": [
    {
     "name": "stdout",
     "output_type": "stream",
     "text": [
      "15000\n"
     ]
    }
   ],
   "source": [
    "class Cal:       #class ko first later jahiley capital hunu paryo \n",
    "    def volume(self,l,b,h):\n",
    "        v = l*b*h\n",
    "        print(v)\n",
    "        \n",
    "obj = Cal()\n",
    "obj.volume(100,50,3)"
   ]
  },
  {
   "cell_type": "code",
   "execution_count": 8,
   "id": "203a812f",
   "metadata": {},
   "outputs": [
    {
     "name": "stdout",
     "output_type": "stream",
     "text": [
      "150000\n",
      "5000\n"
     ]
    }
   ],
   "source": [
    "class Cal:       #class ko first later jahiley capital hunu paryo \n",
    "    def volume(self,l,b,h):\n",
    "        v = l*b*h\n",
    "        print(v)\n",
    "        \n",
    "    def area(self,l,b):\n",
    "        a = l*b\n",
    "        print(a)\n",
    "        \n",
    "obj = Cal()\n",
    "obj.volume(100,50,30)\n",
    "obj.area(100,50)        "
   ]
  },
  {
   "cell_type": "code",
   "execution_count": 10,
   "id": "6a90cd7d",
   "metadata": {},
   "outputs": [
    {
     "name": "stdout",
     "output_type": "stream",
     "text": [
      "ENter l = 76\n",
      "ENter b = 88\n",
      "ENter h = 67\n",
      "448096\n",
      "6688\n"
     ]
    }
   ],
   "source": [
    "class Cal:\n",
    "    def __init__(self,l,b,h):\n",
    "        self.l = l\n",
    "        self.b = b\n",
    "        self.h = h\n",
    "        \n",
    "    def volume(self):\n",
    "        v = self.l*self.b*self.h\n",
    "        print(v)\n",
    "        \n",
    "    def area(self):\n",
    "        a = self.l*self.b\n",
    "        print(a)\n",
    "        \n",
    "\n",
    "l = int(input(\"ENter l = \"))       \n",
    "b = int(input(\"ENter b = \")) \n",
    "h = int(input(\"ENter h = \"))    \n",
    "\n",
    "obj = Cal(l,b,h)\n",
    "obj.volume()\n",
    "obj.area()        "
   ]
  },
  {
   "cell_type": "code",
   "execution_count": 15,
   "id": "56aad50a",
   "metadata": {},
   "outputs": [
    {
     "name": "stdout",
     "output_type": "stream",
     "text": [
      "ENter l = 634\n",
      "ENter b = 43\n",
      "ENter h = 46\n",
      "1254052\n",
      "43\n"
     ]
    }
   ],
   "source": [
    "class Volume:\n",
    "    def __init__(self,l,b,h):\n",
    "        self.l = l\n",
    "        self.b = b\n",
    "        self.h = h\n",
    "        \n",
    "    def volume(self):\n",
    "        v = self.l*self.b*self.h\n",
    "        print(v)\n",
    "class Area:\n",
    "    def __init__(self,l,b):\n",
    "        self.l = 1\n",
    "        self.b = b\n",
    "    def area(self):\n",
    "        a = self.l*self.b\n",
    "        print(a)\n",
    "        \n",
    "\n",
    "l = int(input(\"ENter l = \"))       \n",
    "b = int(input(\"ENter b = \")) \n",
    "h = int(input(\"ENter h = \"))    \n",
    "\n",
    "obj = Volume(l,b,h)\n",
    "obj.volume()\n",
    "obj1 = Area(l,b)\n",
    "obj1.area()"
   ]
  },
  {
   "cell_type": "code",
   "execution_count": null,
   "id": "ba8b479e",
   "metadata": {},
   "outputs": [],
   "source": []
  }
 ],
 "metadata": {
  "kernelspec": {
   "display_name": "Python 3 (ipykernel)",
   "language": "python",
   "name": "python3"
  },
  "language_info": {
   "codemirror_mode": {
    "name": "ipython",
    "version": 3
   },
   "file_extension": ".py",
   "mimetype": "text/x-python",
   "name": "python",
   "nbconvert_exporter": "python",
   "pygments_lexer": "ipython3",
   "version": "3.10.9"
  }
 },
 "nbformat": 4,
 "nbformat_minor": 5
}
