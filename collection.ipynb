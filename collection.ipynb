{
 "cells": [
  {
   "cell_type": "code",
   "execution_count": 1,
   "id": "d6ec06df",
   "metadata": {},
   "outputs": [],
   "source": [
    "# python collection\n",
    "# list\n",
    "# tuple\n",
    "# dict\n",
    "# set"
   ]
  },
  {
   "cell_type": "code",
   "execution_count": 2,
   "id": "3f8273a2",
   "metadata": {},
   "outputs": [],
   "source": [
    "# list\n",
    "# Indexing\n",
    "# multiple data\n",
    "# Duplicate\n",
    "# mutable"
   ]
  },
  {
   "cell_type": "code",
   "execution_count": 4,
   "id": "ee46e0fe",
   "metadata": {},
   "outputs": [],
   "source": [
    "l = []\n",
    "l = list()"
   ]
  },
  {
   "cell_type": "code",
   "execution_count": 5,
   "id": "16c2a3a5",
   "metadata": {},
   "outputs": [
    {
     "name": "stdout",
     "output_type": "stream",
     "text": [
      "<class 'list'>\n",
      "[1, 2, 3, 4, 5, 6, 7, 8, 9, 0]\n"
     ]
    }
   ],
   "source": [
    "a = [1,2,3,4,5,6,7,8,9,0]\n",
    "print(type(a))\n",
    "print(a)"
   ]
  },
  {
   "cell_type": "code",
   "execution_count": 7,
   "id": "d14c49d9",
   "metadata": {},
   "outputs": [
    {
     "name": "stdout",
     "output_type": "stream",
     "text": [
      "ball\n",
      "['Apple', 'ball', 'cat', 'dog']\n",
      "['Apple', 'cat', 'fish']\n"
     ]
    }
   ],
   "source": [
    "a = [\"Apple\",\"ball\",\"cat\",\"dog\",\"fish\"]\n",
    "print(a[1])\n",
    "print(a[0:4])\n",
    "print(a[0:5:2])"
   ]
  },
  {
   "cell_type": "code",
   "execution_count": 8,
   "id": "cdea5290",
   "metadata": {},
   "outputs": [
    {
     "data": {
      "text/plain": [
       "['Apple', 'ball', 'cat', 'dog', 'fish', 'apple']"
      ]
     },
     "execution_count": 8,
     "metadata": {},
     "output_type": "execute_result"
    }
   ],
   "source": [
    "a = [\"Apple\",\"ball\",\"cat\",\"dog\",\"fish\",\"apple\"]\n",
    "a"
   ]
  },
  {
   "cell_type": "code",
   "execution_count": 10,
   "id": "e2aa6b4b",
   "metadata": {},
   "outputs": [
    {
     "name": "stdout",
     "output_type": "stream",
     "text": [
      "[1, 2, 3, 2]\n"
     ]
    }
   ],
   "source": [
    "a = [1,2,3]   #add\n",
    "b = [2]\n",
    "c = a+b\n",
    "print(c)"
   ]
  },
  {
   "cell_type": "code",
   "execution_count": 11,
   "id": "f5eae4bb",
   "metadata": {},
   "outputs": [
    {
     "name": "stdout",
     "output_type": "stream",
     "text": [
      "[1, 2, 3, 1, 2, 3]\n"
     ]
    }
   ],
   "source": [
    "a = [1,2,3]   #multi\n",
    "b = 2\n",
    "print(a*b)"
   ]
  },
  {
   "cell_type": "code",
   "execution_count": 2,
   "id": "fa77bf86",
   "metadata": {},
   "outputs": [
    {
     "name": "stdout",
     "output_type": "stream",
     "text": [
      "Enter n = 5\n",
      "Enter x = 3242\n",
      "Enter x = 23\n",
      "Enter x = 42\n",
      "Enter x = 2432\n",
      "Enter x = 432\n",
      "[3242, 23, 42, 2432, 432]\n"
     ]
    }
   ],
   "source": [
    "l = []\n",
    "n = int(input(\"Enter n = \"))\n",
    "for i in range(n):\n",
    "    x = int(input(\"Enter x = \"))\n",
    "    l = l + [x]\n",
    "print(l)"
   ]
  },
  {
   "cell_type": "code",
   "execution_count": 2,
   "id": "94f9bf6a",
   "metadata": {},
   "outputs": [
    {
     "name": "stdout",
     "output_type": "stream",
     "text": [
      "The max value =  3242\n",
      "The min value =  23\n",
      "The sum =  6171\n"
     ]
    }
   ],
   "source": [
    "l = [3242, 23, 42, 2432, 432]\n",
    "print(\"The max value = \",max(l))\n",
    "print(\"The min value = \",min(l))\n",
    "print(\"The sum = \",sum(l))"
   ]
  },
  {
   "cell_type": "code",
   "execution_count": 3,
   "id": "e39b2d73",
   "metadata": {},
   "outputs": [
    {
     "name": "stdout",
     "output_type": "stream",
     "text": [
      "[23, 42, 432, 2432, 3242]\n"
     ]
    }
   ],
   "source": [
    "l.sort()\n",
    "print(l)"
   ]
  },
  {
   "cell_type": "code",
   "execution_count": 4,
   "id": "f4bb08fc",
   "metadata": {},
   "outputs": [
    {
     "name": "stdout",
     "output_type": "stream",
     "text": [
      "[3242, 2432, 432, 42, 23]\n"
     ]
    }
   ],
   "source": [
    "l . reverse()\n",
    "print(l)"
   ]
  },
  {
   "cell_type": "code",
   "execution_count": 5,
   "id": "82bde244",
   "metadata": {},
   "outputs": [],
   "source": [
    "# # # add , value\n",
    "# # append() insert() extend()\n",
    "\n",
    "# delete values\n",
    "# det remove() pop()\n"
   ]
  },
  {
   "cell_type": "code",
   "execution_count": 5,
   "id": "aaeed455",
   "metadata": {},
   "outputs": [
    {
     "name": "stdout",
     "output_type": "stream",
     "text": [
      "Apple\n",
      "ball\n",
      "cat\n",
      "dog\n",
      "fish\n",
      "apple\n"
     ]
    }
   ],
   "source": [
    "a = [\"Apple\",\"ball\",\"cat\",\"dog\",\"fish\",\"apple\"]\n",
    "for i in range(len(a)):\n",
    "    print(a[i])"
   ]
  },
  {
   "cell_type": "code",
   "execution_count": 4,
   "id": "3c461059",
   "metadata": {},
   "outputs": [
    {
     "name": "stdout",
     "output_type": "stream",
     "text": [
      "Yes\n",
      "1\n"
     ]
    }
   ],
   "source": [
    "a = [\"ram\",'shyam','hari','sita','gita',\"nabin\",\"ramesh\"]\n",
    "if \"ram\" in a:\n",
    "    print(\"Yes\")\n",
    "    print(a.count(\"ram\"))\n",
    "else:\n",
    "    print(\"no\")"
   ]
  },
  {
   "cell_type": "code",
   "execution_count": 5,
   "id": "2d6516c7",
   "metadata": {},
   "outputs": [],
   "source": [
    "#WAP to search any value in a list upper case"
   ]
  },
  {
   "cell_type": "code",
   "execution_count": 7,
   "id": "44867eee",
   "metadata": {},
   "outputs": [
    {
     "data": {
      "text/plain": [
       "[1, 2.3, 4, 5, 'apple', 'ball']"
      ]
     },
     "execution_count": 7,
     "metadata": {},
     "output_type": "execute_result"
    }
   ],
   "source": [
    "# append()\n",
    "a = [1,2.3,4,5]\n",
    "a.append(\"apple\")\n",
    "a.append(\"ball\")\n",
    "a"
   ]
  },
  {
   "cell_type": "code",
   "execution_count": 10,
   "id": "88396fea",
   "metadata": {},
   "outputs": [
    {
     "data": {
      "text/plain": [
       "['apple', 'ball', 'can', 'car', 'bike', 'h2r']"
      ]
     },
     "execution_count": 10,
     "metadata": {},
     "output_type": "execute_result"
    }
   ],
   "source": [
    "#insert\n",
    "a = [\"apple\",\"ball\",\"car\",\"bike\",\"h2r\"]\n",
    "a.insert(2,\"can\")\n",
    "a"
   ]
  },
  {
   "cell_type": "code",
   "execution_count": 11,
   "id": "141ba43b",
   "metadata": {},
   "outputs": [
    {
     "data": {
      "text/plain": [
       "['apple', 'ball', 'car', 'bike', 'h2r', 1, 2, 3, 4]"
      ]
     },
     "execution_count": 11,
     "metadata": {},
     "output_type": "execute_result"
    }
   ],
   "source": [
    "# extend()\n",
    "a = [\"apple\",\"ball\",\"car\",\"bike\",\"h2r\"]\n",
    "b = [1,2,3,4]\n",
    "a.extend(b)\n",
    "a"
   ]
  },
  {
   "cell_type": "code",
   "execution_count": 12,
   "id": "5a04ee55",
   "metadata": {},
   "outputs": [
    {
     "data": {
      "text/plain": [
       "'apple'"
      ]
     },
     "execution_count": 12,
     "metadata": {},
     "output_type": "execute_result"
    }
   ],
   "source": [
    "# update\n",
    "a = [\"apple\",\"ball\",\"car\",\"bike\",\"h2r\"]\n",
    "a[0]"
   ]
  },
  {
   "cell_type": "code",
   "execution_count": 14,
   "id": "e73710b6",
   "metadata": {},
   "outputs": [
    {
     "data": {
      "text/plain": [
       "['ant', 'ball', 'car', 'bike', 'h2r']"
      ]
     },
     "execution_count": 14,
     "metadata": {},
     "output_type": "execute_result"
    }
   ],
   "source": [
    "# update\n",
    "a = [\"apple\",\"ball\",\"car\",\"bike\",\"h2r\"]\n",
    "a[0] = \"ant\"  #rename\n",
    "a"
   ]
  },
  {
   "cell_type": "code",
   "execution_count": 18,
   "id": "c0abc32f",
   "metadata": {},
   "outputs": [
    {
     "data": {
      "text/plain": [
       "['APPPLE', 'BALL', 'car', 'bike', 'h2r']"
      ]
     },
     "execution_count": 18,
     "metadata": {},
     "output_type": "execute_result"
    }
   ],
   "source": [
    "# update\n",
    "a = [\"apple\",\"ball\",\"car\",\"bike\",\"h2r\"]\n",
    "a[0:2] = [\"APPPLE\",\"BALL\"]\n",
    "a"
   ]
  },
  {
   "cell_type": "code",
   "execution_count": 1,
   "id": "139074db",
   "metadata": {},
   "outputs": [],
   "source": [
    "#delete\n",
    "#del remove() pop()"
   ]
  },
  {
   "cell_type": "code",
   "execution_count": 4,
   "id": "2c2f452f",
   "metadata": {},
   "outputs": [
    {
     "name": "stdout",
     "output_type": "stream",
     "text": [
      "['ball', 'cat', 'fish', 'egg']\n"
     ]
    }
   ],
   "source": [
    "a = ['apple','ball','cat','fish','egg']\n",
    "del a[0]\n",
    "print(a)"
   ]
  },
  {
   "cell_type": "code",
   "execution_count": 5,
   "id": "bbee6182",
   "metadata": {},
   "outputs": [
    {
     "data": {
      "text/plain": [
       "['fish', 'egg']"
      ]
     },
     "execution_count": 5,
     "metadata": {},
     "output_type": "execute_result"
    }
   ],
   "source": [
    "a = ['apple','ball','cat','fish','egg']\n",
    "del a[0:3]\n",
    "a"
   ]
  },
  {
   "cell_type": "code",
   "execution_count": 7,
   "id": "35ac1006",
   "metadata": {},
   "outputs": [
    {
     "name": "stdout",
     "output_type": "stream",
     "text": [
      "['apple', 'ball', 'fish', 'egg']\n"
     ]
    }
   ],
   "source": [
    "a = ['apple','ball','cat','fish','egg']\n",
    "a.remove('cat')\n",
    "print(a)"
   ]
  },
  {
   "cell_type": "code",
   "execution_count": 9,
   "id": "8d5135e3",
   "metadata": {},
   "outputs": [
    {
     "name": "stdout",
     "output_type": "stream",
     "text": [
      "['ball', 'cat', 'fish', 'egg']\n"
     ]
    }
   ],
   "source": [
    "a = ['apple','ball','cat','fish','egg',\"apple\"]\n",
    "c = a.count('apple')\n",
    "for i in range(c):\n",
    "\ta.remove('apple')\n",
    "print(a)"
   ]
  },
  {
   "cell_type": "code",
   "execution_count": 13,
   "id": "824dedb9",
   "metadata": {},
   "outputs": [
    {
     "name": "stdout",
     "output_type": "stream",
     "text": [
      "['ball', 'cat', 'fish', 'egg']\n"
     ]
    }
   ],
   "source": [
    "a = ['apple','ball','cat','fish','egg',\"apple\"]\n",
    "a.remove('apple')\n",
    "a.remove('apple')\n",
    "print(a)"
   ]
  },
  {
   "cell_type": "code",
   "execution_count": 16,
   "id": "c7db591c",
   "metadata": {},
   "outputs": [
    {
     "data": {
      "text/plain": [
       "'apple'"
      ]
     },
     "execution_count": 16,
     "metadata": {},
     "output_type": "execute_result"
    }
   ],
   "source": [
    "a = ['apple','ball','cat','fish','egg',\"apple\"]\n",
    "a.pop(0)"
   ]
  },
  {
   "cell_type": "code",
   "execution_count": 17,
   "id": "07eaac3a",
   "metadata": {},
   "outputs": [
    {
     "data": {
      "text/plain": [
       "['ball', 'cat', 'fish', 'egg', 'apple']"
      ]
     },
     "execution_count": 17,
     "metadata": {},
     "output_type": "execute_result"
    }
   ],
   "source": [
    "a = ['apple','ball','cat','fish','egg',\"apple\"]\n",
    "a.pop(0)\n",
    "a"
   ]
  },
  {
   "cell_type": "code",
   "execution_count": 19,
   "id": "b7ffc587",
   "metadata": {},
   "outputs": [
    {
     "name": "stdout",
     "output_type": "stream",
     "text": [
      "['ball', 'cat', 'fish', 'egg', 'apple']\n",
      "apple\n"
     ]
    }
   ],
   "source": [
    "a = ['apple','ball','cat','fish','egg',\"apple\"]\n",
    "b = a.pop(0)\n",
    "print(a)\n",
    "print(b)"
   ]
  },
  {
   "cell_type": "code",
   "execution_count": 27,
   "id": "3c25ea25",
   "metadata": {},
   "outputs": [],
   "source": [
    "#list inside list\n",
    "a = [[1,2,3,],\n",
    "     [4,5,6],\n",
    "     [7,8,9]]"
   ]
  },
  {
   "cell_type": "markdown",
   "id": "b050c878",
   "metadata": {},
   "source": [
    "print(a[0])\n",
    "print(a[1][2])"
   ]
  },
  {
   "cell_type": "code",
   "execution_count": null,
   "id": "9ef059dc",
   "metadata": {},
   "outputs": [],
   "source": [
    "a = [['ram',45,'kathmandu'],\n",
    "     ['hari',56,'mirchaiya']\n",
    "     ['suman',432,'lahan']]"
   ]
  },
  {
   "cell_type": "code",
   "execution_count": 33,
   "id": "3307b44d",
   "metadata": {},
   "outputs": [
    {
     "name": "stdout",
     "output_type": "stream",
     "text": [
      "Enter n = 1\n",
      "Enter name = amit\n",
      "Enter age18\n",
      "enter add = mirchaiya\n",
      "[['amit', 18, 'mirchaiya']]\n"
     ]
    }
   ],
   "source": [
    "a = []\n",
    "n = int(input(\"Enter n = \"))\n",
    "for i in range(n):\n",
    "    name = input(\"Enter name = \")\n",
    "    age = int(input(\"Enter age\"))\n",
    "    add = input(\"enter add = \")\n",
    "    info = [name,age,add]\n",
    "    a.append(info)\n",
    "print(a)"
   ]
  },
  {
   "cell_type": "code",
   "execution_count": 6,
   "id": "63d52deb",
   "metadata": {},
   "outputs": [],
   "source": [
    "#search\n",
    "a = [['ram',45,'kathmandu'],\n",
    "     ['hari',56,'mirchaiya'],\n",
    "     ['suman',432,'lahan'],\n",
    "     ['ram',234,'pipra']]"
   ]
  },
  {
   "cell_type": "code",
   "execution_count": 2,
   "id": "6b29d900",
   "metadata": {},
   "outputs": [
    {
     "name": "stdout",
     "output_type": "stream",
     "text": [
      "['ram', 45, 'kathmandu']\n",
      "['hari', 56, 'mirchaiya']\n",
      "['suman', 432, 'lahan']\n",
      "['ram', 234, 'pipra']\n"
     ]
    }
   ],
   "source": [
    "for i in a:\n",
    "    print(i)"
   ]
  },
  {
   "cell_type": "code",
   "execution_count": 7,
   "id": "9968d495",
   "metadata": {},
   "outputs": [],
   "source": [
    "#search\n",
    "a = [['ram',45,'kathmandu'],\n",
    "     ['hari',56,'mirchaiya'],\n",
    "     ['suman',432,'lahan'],\n",
    "     ['ram',234,'pipra']]"
   ]
  },
  {
   "cell_type": "code",
   "execution_count": 8,
   "id": "52e1d9ab",
   "metadata": {},
   "outputs": [
    {
     "name": "stdout",
     "output_type": "stream",
     "text": [
      "ram\n",
      "hari\n",
      "suman\n",
      "ram\n"
     ]
    }
   ],
   "source": [
    "for i in a:\n",
    "    print(i[0])"
   ]
  },
  {
   "cell_type": "code",
   "execution_count": 12,
   "id": "ee16ac6e",
   "metadata": {},
   "outputs": [
    {
     "name": "stdout",
     "output_type": "stream",
     "text": [
      "Enter name = ram\n",
      "['ram', 45, 'kathmandu']\n",
      "['ram', 234, 'pipra']\n"
     ]
    }
   ],
   "source": [
    "name = input(\"Enter name = \")\n",
    "\n",
    "for i in a:\n",
    "    if i[0] == name:\n",
    "        print(i)"
   ]
  },
  {
   "cell_type": "code",
   "execution_count": 14,
   "id": "1272a085",
   "metadata": {},
   "outputs": [
    {
     "name": "stdout",
     "output_type": "stream",
     "text": [
      "Enter name = Ram\n",
      "['ram', 45, 'kathmandu']\n",
      "['ram', 234, 'pipra']\n"
     ]
    }
   ],
   "source": [
    "#search\n",
    "a = [['ram',45,'kathmandu'],\n",
    "     ['hari',56,'mirchaiya'],\n",
    "     ['suman',432,'lahan'],\n",
    "     ['ram',234,'pipra']]\n",
    "name = input(\"Enter name = \")\n",
    "\n",
    "for i in a:\n",
    "    if i[0].lower() == name.lower():\n",
    "        print(i)\n",
    "        "
   ]
  },
  {
   "cell_type": "code",
   "execution_count": 17,
   "id": "15e363b4",
   "metadata": {},
   "outputs": [
    {
     "name": "stdout",
     "output_type": "stream",
     "text": [
      "Enter name = ram\n",
      "['ram', 45, 'kathmandu']\n",
      "['ram', 234, 'pipra']\n",
      "there is 2 record\n"
     ]
    }
   ],
   "source": [
    "c = 0\n",
    "a = [['ram',45,'kathmandu'],\n",
    "     ['hari',56,'mirchaiya'],\n",
    "     ['suman',432,'lahan'],\n",
    "     ['ram',234,'pipra']]\n",
    "name = input(\"Enter name = \")\n",
    "\n",
    "for i in a:\n",
    "    if i[0].lower() == name.lower():\n",
    "        print(i)\n",
    "        c = c + 1\n",
    "print(f\"there is {c} record\")\n",
    "        "
   ]
  },
  {
   "cell_type": "code",
   "execution_count": 6,
   "id": "200fd4ee",
   "metadata": {},
   "outputs": [
    {
     "data": {
      "text/plain": [
       "[['Ram ram ram', 45, 'kathmandu'],\n",
       " ['hari', 56, 'mirchaiya'],\n",
       " ['suman', 432, 'lahan'],\n",
       " ['ram', 234, 'pipra']]"
      ]
     },
     "execution_count": 6,
     "metadata": {},
     "output_type": "execute_result"
    }
   ],
   "source": [
    "#update\n",
    "a = [['ram',45,'kathmandu'],\n",
    "     ['hari',56,'mirchaiya'],\n",
    "     ['suman',432,'lahan'],\n",
    "     ['ram',234,'pipra']]\n",
    "a[0][0] = \"Ram ram ram\"\n",
    "a"
   ]
  },
  {
   "cell_type": "code",
   "execution_count": 13,
   "id": "eee2e002",
   "metadata": {},
   "outputs": [],
   "source": [
    "a = [['ram',45,'kathmandu'],\n",
    "     ['hari',56,'mirchaiya'],\n",
    "     ['suman',432,'lahan'],\n",
    "     ['ram',234,'pipra']]"
   ]
  },
  {
   "cell_type": "code",
   "execution_count": 15,
   "id": "be37ec4c",
   "metadata": {},
   "outputs": [
    {
     "name": "stdout",
     "output_type": "stream",
     "text": [
      "[['suman', 432, 'lahan'], ['ram', 234, 'pipra']]\n"
     ]
    }
   ],
   "source": [
    "#delete\n",
    "del a[0]\n",
    "print(a)"
   ]
  },
  {
   "cell_type": "code",
   "execution_count": null,
   "id": "5154dfa6",
   "metadata": {},
   "outputs": [],
   "source": [
    "#wap to create a matrix having n no row and colums"
   ]
  }
 ],
 "metadata": {
  "kernelspec": {
   "display_name": "Python 3 (ipykernel)",
   "language": "python",
   "name": "python3"
  },
  "language_info": {
   "codemirror_mode": {
    "name": "ipython",
    "version": 3
   },
   "file_extension": ".py",
   "mimetype": "text/x-python",
   "name": "python",
   "nbconvert_exporter": "python",
   "pygments_lexer": "ipython3",
   "version": "3.10.9"
  }
 },
 "nbformat": 4,
 "nbformat_minor": 5
}
